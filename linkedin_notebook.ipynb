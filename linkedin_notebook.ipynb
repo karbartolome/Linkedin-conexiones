{
 "cells": [
  {
   "cell_type": "markdown",
   "metadata": {},
   "source": [
    "# Conexiones en Linkedin\n",
    "\n",
    "Replicando el analisis de : <a href=https://towardsdatascience.com/visualizing-my-linkedin-network-c4b232ab2ad0>Visualizing My LinkedIn Network</a>"
   ]
  },
  {
   "cell_type": "markdown",
   "metadata": {},
   "source": [
    "## Librerías"
   ]
  },
  {
   "cell_type": "code",
   "execution_count": 10,
   "metadata": {},
   "outputs": [],
   "source": [
    "import pandas as pd\n",
    "import plotly.express as px\n",
    "import numpy as np\n"
   ]
  },
  {
   "cell_type": "markdown",
   "metadata": {},
   "source": [
    "## Los datos\n",
    "\n",
    "Linkedin permite descargar los datos personales desde: Ajustes y privacidad > Cómo utiliza Linkedin tus datos > Obtener una copia de tus datos"
   ]
  },
  {
   "cell_type": "code",
   "execution_count": 11,
   "metadata": {},
   "outputs": [],
   "source": [
    "df = pd.read_csv('conexiones.csv')\n",
    "df = df.dropna(subset=['Company', 'Position'])\n",
    "df = df[['Company','Position']]"
   ]
  },
  {
   "cell_type": "code",
   "execution_count": 12,
   "metadata": {
    "scrolled": false
   },
   "outputs": [
    {
     "data": {
      "text/html": [
       "<div>\n",
       "<style scoped>\n",
       "    .dataframe tbody tr th:only-of-type {\n",
       "        vertical-align: middle;\n",
       "    }\n",
       "\n",
       "    .dataframe tbody tr th {\n",
       "        vertical-align: top;\n",
       "    }\n",
       "\n",
       "    .dataframe thead th {\n",
       "        text-align: right;\n",
       "    }\n",
       "</style>\n",
       "<table border=\"1\" class=\"dataframe\">\n",
       "  <thead>\n",
       "    <tr style=\"text-align: right;\">\n",
       "      <th></th>\n",
       "      <th>Company</th>\n",
       "      <th>Position</th>\n",
       "    </tr>\n",
       "  </thead>\n",
       "  <tbody>\n",
       "    <tr>\n",
       "      <td>0</td>\n",
       "      <td>Badi</td>\n",
       "      <td>Data Scientist</td>\n",
       "    </tr>\n",
       "    <tr>\n",
       "      <td>1</td>\n",
       "      <td>Oracle</td>\n",
       "      <td>consultor cx</td>\n",
       "    </tr>\n",
       "    <tr>\n",
       "      <td>2</td>\n",
       "      <td>Ualá</td>\n",
       "      <td>Analista BI</td>\n",
       "    </tr>\n",
       "    <tr>\n",
       "      <td>3</td>\n",
       "      <td>Accenture</td>\n",
       "      <td>Business Intelligence Analyst</td>\n",
       "    </tr>\n",
       "    <tr>\n",
       "      <td>4</td>\n",
       "      <td>Wenance</td>\n",
       "      <td>Data Scientist</td>\n",
       "    </tr>\n",
       "  </tbody>\n",
       "</table>\n",
       "</div>"
      ],
      "text/plain": [
       "     Company                       Position\n",
       "0       Badi                 Data Scientist\n",
       "1     Oracle                   consultor cx\n",
       "2       Ualá                    Analista BI\n",
       "3  Accenture  Business Intelligence Analyst\n",
       "4    Wenance                 Data Scientist"
      ]
     },
     "execution_count": 12,
     "metadata": {},
     "output_type": "execute_result"
    }
   ],
   "source": [
    "df.head()"
   ]
  },
  {
   "cell_type": "markdown",
   "metadata": {},
   "source": [
    "## Visualización"
   ]
  },
  {
   "cell_type": "code",
   "execution_count": 13,
   "metadata": {},
   "outputs": [],
   "source": [
    "# Nodo raíz del TreeMap\n",
    "df['My Network'] = 'My Network'\n",
    "# Agrupar nombres \n",
    "df.loc[df['Position'] == 'Data Science Analyst', 'Position'] = 'Data Scientist'\n",
    "df.loc[df['Position'] == 'Lead Data Scientist', 'Position'] = 'Data Scientist'\n",
    "df.loc[df['Position'] == 'Gerente general', 'Position'] = 'Gerente'\n",
    "df.loc[df['Position'] == 'Socio Gerente', 'Position'] = 'Gerente'\n",
    "df.loc[df['Position'] == 'Asistente de investigación', 'Position'] = 'Investigador'\n",
    "df.loc[df['Position'] == 'Investigador asistente', 'Position'] = 'Investigador'\n",
    "df.loc[df['Position'] == 'Consultor independiente', 'Position'] = 'Consultor'\n",
    "df.loc[df['Position'] == 'CX Consultant', 'Position'] = 'Consultor'\n",
    "df.loc[df['Position'] == 'Consultant', 'Position'] = 'Consultor'\n",
    "df.loc[df['Position'] == 'Consultora', 'Position'] = 'Consultor'\n",
    "df.loc[df['Position'] == 'Consultor', 'Position'] = 'Consultor/a'\n",
    "df.loc[df['Position'] == 'Economist', 'Position'] = 'Economista'\n",
    "df.loc[df['Position'] == 'Representante del servicio de atención al cliente', 'Position'] = 'Atención al cliente'\n",
    "df.loc[df['Position'] == 'Servicio de atención al cliente', 'Position'] = 'Atención al cliente'\n",
    "df.loc[df['Position'] == 'Senior Economist', 'Position'] = 'Economista'\n",
    "df.loc[df['Position'] == 'Becario de investigación', 'Position'] = 'Investigador'\n",
    "df.loc[df['Position'] == 'President', 'Position'] = 'Presidente'\n",
    "\n",
    "df.loc[df['Company'] == 'UNLP-Universidad Nacional de La Plata', 'Company'] = 'Universidad Nacional de La Plata'\n",
    "df.loc[df['Company'] == 'Oracle NetSuite', 'Company'] = 'NetSuite'\n",
    "\n",
    "\n"
   ]
  },
  {
   "cell_type": "markdown",
   "metadata": {},
   "source": [
    "### En función del puesto"
   ]
  },
  {
   "cell_type": "markdown",
   "metadata": {},
   "source": [
    "#### Puestos que se repiten más de una vez"
   ]
  },
  {
   "cell_type": "code",
   "execution_count": 14,
   "metadata": {},
   "outputs": [],
   "source": [
    "df2=df[['Position']]\n",
    "df2=df2.groupby('Position').size().reset_index(name='counts').sort_values('counts', ascending=False)\n",
    "df2=df2[df2['counts']>1]\n",
    "df3=df[df['Position'].isin(df2['Position'])]\n"
   ]
  },
  {
   "cell_type": "code",
   "execution_count": 15,
   "metadata": {},
   "outputs": [
    {
     "data": {
      "application/vnd.plotly.v1+json": {
       "config": {
        "plotlyServerURL": "https://plot.ly"
       },
       "data": [
        {
         "branchvalues": "total",
         "domain": {
          "x": [
           0,
           1
          ],
          "y": [
           0,
           1
          ]
         },
         "hoverlabel": {
          "namelength": 0
         },
         "hovertemplate": "labels=%{label}<br>count=%{value}<br>parent=%{parent}<br>id=%{id}",
         "ids": [
          "My Network/Economista/  CF&P   ",
          "My Network/Analista/AFIP",
          "My Network/Consultor/a/AG",
          "My Network/Client Financial Management Analyst/Accenture",
          "My Network/Consultor/a/AlixPartners",
          "My Network/Gerente/BANCO DE LA NACION ARGENTINA",
          "My Network/Data Scientist/BB-BUSINESS BUREAU",
          "My Network/Data Scientist/BNP Paribas Cardif",
          "My Network/Data Scientist/Badi",
          "My Network/Analista/Banco Galicia",
          "My Network/Analista de datos/Bint group",
          "My Network/Investigador/CEDES",
          "My Network/Research Analyst/CELIV UNTREF",
          "My Network/Investigador/CIPPEC",
          "My Network/Economista/CNN Radio Argentina",
          "My Network/Economista/CNRT",
          "My Network/Profesor/Centro de e-Learning UTN BA",
          "My Network/Consultor/a/Comisión Económica para América Latina y el Caribe (CEPAL)",
          "My Network/Analista económico/Comisión Nacional de Defensa de la Competencia",
          "My Network/Investigador/Consejo Nacional de Investigaciones Científicas y Técnicas",
          "My Network/Asesor financiero/Consultora",
          "My Network/Analista de datos/CredixSA",
          "My Network/Gerente/Deener - Accesorios para baño",
          "My Network/Founder/DeepData",
          "My Network/Data Scientist/Despegar",
          "My Network/Analista/Dirección Provincial de Estadística - Ministerio de Hacienda y Finanzas de la Pcia. de Buenos Aires",
          "My Network/Economista/Dirección Provincial de Estadística, Ministerio de Hacienda y Finanzas - PBA.",
          "My Network/Pasante/E.E.S.T Nº 4 \"I Brigada Aerea El palomar Profesor Hector A. Laguarde\"",
          "My Network/Founder/EANT - Escuela Argentina de Nuevas Tecnologías",
          "My Network/Analista económico/ENARGAS",
          "My Network/Profesor/ESCUELAS DE EDUCACIÓN SECUNDARIA GENERAL DEL SECTOR PÚBLICO",
          "My Network/Analista económico/Eco Go Consultores",
          "My Network/Economista/Ecolatina",
          "My Network/Pasante/Editorial Río Negro S.A.",
          "My Network/CEO /Einstein Electronics Security ",
          "My Network/Gerente/Enersol Ingeniería - Energías Renovables",
          "My Network/Presidente/FIDE - Fundación de Investigaciones para el Desarrollo",
          "My Network/Economista/FIEL",
          "My Network/Director/Finance Dreams",
          "My Network/Data Scientist/Freelance / Advisor",
          "My Network/Consultor/a/Frelance worker",
          "My Network/Analista de datos/Fundación Frontera Económica ",
          "My Network/Asesor financiero/GRUPO LOYALTY",
          "My Network/Data Scientist/Global Hitss",
          "My Network/Analista de datos/Gobierno de la Ciudad de Buenos Aires",
          "My Network/Asesor/Gobierno de la Ciudad de Buenos Aires",
          "My Network/Analista/Hospital Italiano de Buenos Aires",
          "My Network/Economista/IDB Invest",
          "My Network/Presidente/IMEPHO materiales de construccion ",
          "My Network/Director/IPIT",
          "My Network/Investigador/Instituto de Investigaciones Económicas - FCE UNLP",
          "My Network/Consultor/a/Inter-American Development Bank",
          "My Network/Consultor/a/International Fund for Agricultural Development",
          "My Network/Research Analyst/International Monetary Fund",
          "My Network/Director/Invecq Consulting SA",
          "My Network/Presidente/Invecq Consulting SA",
          "My Network/Presidente/Juguetes del Puerto Ltda.",
          "My Network/Director/K - TIC Software de optimización integral",
          "My Network/Presidente/Lancellotti S. A.",
          "My Network/Data Scientist/MURAL",
          "My Network/Atención al cliente/Mercado Libre",
          "My Network/Data Scientist/Mercado Libre",
          "My Network/Economista/Mills Capital Group",
          "My Network/Economista/Ministerio de Desarrollo Productivo de la Nación",
          "My Network/Asesor/Ministerio de Educación de la Nación",
          "My Network/Asesor/Ministerio de Hacienda",
          "My Network/Asesor/Ministerio de Obras Públicas",
          "My Network/Analista de datos/Ministerio de Producción y Trabajo de la Nación",
          "My Network/Analista/Ministerio del Interior, Obras Públicas y Vivienda",
          "My Network/Asesor/Ministerio del Interior, Obras Públicas y Vivienda",
          "My Network/Economista/Municipio de Tigre",
          "My Network/Consultor/a/NetSuite",
          "My Network/Economista/Observatorio de Economia Social y Solidaria UNQui",
          "My Network/Atención al cliente/Optica Trevelin",
          "My Network/Consultor/a/Oracle",
          "My Network/Presidente/POLO INDUSTRIAL EZEIZA",
          "My Network/CEO /Pampa Marketing",
          "My Network/Data Scientist/Prisma",
          "My Network/Economista/PxQ Consultora",
          "My Network/Economista/QUANT innovación social ",
          "My Network/Presidente/Quinquela Fondos",
          "My Network/Data Scientist/Santander Argentina",
          "My Network/Economista/The World Bank",
          "My Network/Research Analyst/The World Bank",
          "My Network/Analista BI/Ualá",
          "My Network/Data Scientist/Ualá",
          "My Network/Talent Acquisition Specialist/Ualá",
          "My Network/Investigador/Universidad Nacional de General Sarmiento",
          "My Network/Investigador/Universidad Nacional de La Plata",
          "My Network/Profesor/Universidad Nacional de Moreno (UNM)",
          "My Network/Profesor/Universidad Siglo 21",
          "My Network/Investigador/Universidad de Buenos Aires",
          "My Network/Gerente/Vision Led",
          "My Network/Data Scientist/Wenance",
          "My Network/Data Scientist/YPF",
          "My Network/Data Scientist/Zurich Santander Seguros",
          "My Network/Atención al cliente/antigua torino",
          "My Network/Atención al cliente/invertirOnline.com",
          "My Network/Analista económico/investBA - Agencia de Promoción de Inversiones y Comercio Exterior de la Ciudad de Buenos Aires",
          "My Network/Analista",
          "My Network/Analista BI",
          "My Network/Analista de datos",
          "My Network/Analista económico",
          "My Network/Asesor",
          "My Network/Asesor financiero",
          "My Network/Atención al cliente",
          "My Network/CEO ",
          "My Network/Client Financial Management Analyst",
          "My Network/Consultor/a",
          "My Network/Data Scientist",
          "My Network/Director",
          "My Network/Economista",
          "My Network/Founder",
          "My Network/Gerente",
          "My Network/Investigador",
          "My Network/Pasante",
          "My Network/Presidente",
          "My Network/Profesor",
          "My Network/Research Analyst",
          "My Network/Talent Acquisition Specialist",
          "My Network"
         ],
         "labels": [
          "  CF&P   ",
          "AFIP",
          "AG",
          "Accenture",
          "AlixPartners",
          "BANCO DE LA NACION ARGENTINA",
          "BB-BUSINESS BUREAU",
          "BNP Paribas Cardif",
          "Badi",
          "Banco Galicia",
          "Bint group",
          "CEDES",
          "CELIV UNTREF",
          "CIPPEC",
          "CNN Radio Argentina",
          "CNRT",
          "Centro de e-Learning UTN BA",
          "Comisión Económica para América Latina y el Caribe (CEPAL)",
          "Comisión Nacional de Defensa de la Competencia",
          "Consejo Nacional de Investigaciones Científicas y Técnicas",
          "Consultora",
          "CredixSA",
          "Deener - Accesorios para baño",
          "DeepData",
          "Despegar",
          "Dirección Provincial de Estadística - Ministerio de Hacienda y Finanzas de la Pcia. de Buenos Aires",
          "Dirección Provincial de Estadística, Ministerio de Hacienda y Finanzas - PBA.",
          "E.E.S.T Nº 4 \"I Brigada Aerea El palomar Profesor Hector A. Laguarde\"",
          "EANT - Escuela Argentina de Nuevas Tecnologías",
          "ENARGAS",
          "ESCUELAS DE EDUCACIÓN SECUNDARIA GENERAL DEL SECTOR PÚBLICO",
          "Eco Go Consultores",
          "Ecolatina",
          "Editorial Río Negro S.A.",
          "Einstein Electronics Security ",
          "Enersol Ingeniería - Energías Renovables",
          "FIDE - Fundación de Investigaciones para el Desarrollo",
          "FIEL",
          "Finance Dreams",
          "Freelance / Advisor",
          "Frelance worker",
          "Fundación Frontera Económica ",
          "GRUPO LOYALTY",
          "Global Hitss",
          "Gobierno de la Ciudad de Buenos Aires",
          "Gobierno de la Ciudad de Buenos Aires",
          "Hospital Italiano de Buenos Aires",
          "IDB Invest",
          "IMEPHO materiales de construccion ",
          "IPIT",
          "Instituto de Investigaciones Económicas - FCE UNLP",
          "Inter-American Development Bank",
          "International Fund for Agricultural Development",
          "International Monetary Fund",
          "Invecq Consulting SA",
          "Invecq Consulting SA",
          "Juguetes del Puerto Ltda.",
          "K - TIC Software de optimización integral",
          "Lancellotti S. A.",
          "MURAL",
          "Mercado Libre",
          "Mercado Libre",
          "Mills Capital Group",
          "Ministerio de Desarrollo Productivo de la Nación",
          "Ministerio de Educación de la Nación",
          "Ministerio de Hacienda",
          "Ministerio de Obras Públicas",
          "Ministerio de Producción y Trabajo de la Nación",
          "Ministerio del Interior, Obras Públicas y Vivienda",
          "Ministerio del Interior, Obras Públicas y Vivienda",
          "Municipio de Tigre",
          "NetSuite",
          "Observatorio de Economia Social y Solidaria UNQui",
          "Optica Trevelin",
          "Oracle",
          "POLO INDUSTRIAL EZEIZA",
          "Pampa Marketing",
          "Prisma",
          "PxQ Consultora",
          "QUANT innovación social ",
          "Quinquela Fondos",
          "Santander Argentina",
          "The World Bank",
          "The World Bank",
          "Ualá",
          "Ualá",
          "Ualá",
          "Universidad Nacional de General Sarmiento",
          "Universidad Nacional de La Plata",
          "Universidad Nacional de Moreno (UNM)",
          "Universidad Siglo 21",
          "Universidad de Buenos Aires",
          "Vision Led",
          "Wenance",
          "YPF",
          "Zurich Santander Seguros",
          "antigua torino",
          "invertirOnline.com",
          "investBA - Agencia de Promoción de Inversiones y Comercio Exterior de la Ciudad de Buenos Aires",
          "Analista",
          "Analista BI",
          "Analista de datos",
          "Analista económico",
          "Asesor",
          "Asesor financiero",
          "Atención al cliente",
          "CEO ",
          "Client Financial Management Analyst",
          "Consultor/a",
          "Data Scientist",
          "Director",
          "Economista",
          "Founder",
          "Gerente",
          "Investigador",
          "Pasante",
          "Presidente",
          "Profesor",
          "Research Analyst",
          "Talent Acquisition Specialist",
          "My Network"
         ],
         "name": "",
         "parents": [
          "My Network/Economista",
          "My Network/Analista",
          "My Network/Consultor/a",
          "My Network/Client Financial Management Analyst",
          "My Network/Consultor/a",
          "My Network/Gerente",
          "My Network/Data Scientist",
          "My Network/Data Scientist",
          "My Network/Data Scientist",
          "My Network/Analista",
          "My Network/Analista de datos",
          "My Network/Investigador",
          "My Network/Research Analyst",
          "My Network/Investigador",
          "My Network/Economista",
          "My Network/Economista",
          "My Network/Profesor",
          "My Network/Consultor/a",
          "My Network/Analista económico",
          "My Network/Investigador",
          "My Network/Asesor financiero",
          "My Network/Analista de datos",
          "My Network/Gerente",
          "My Network/Founder",
          "My Network/Data Scientist",
          "My Network/Analista",
          "My Network/Economista",
          "My Network/Pasante",
          "My Network/Founder",
          "My Network/Analista económico",
          "My Network/Profesor",
          "My Network/Analista económico",
          "My Network/Economista",
          "My Network/Pasante",
          "My Network/CEO ",
          "My Network/Gerente",
          "My Network/Presidente",
          "My Network/Economista",
          "My Network/Director",
          "My Network/Data Scientist",
          "My Network/Consultor/a",
          "My Network/Analista de datos",
          "My Network/Asesor financiero",
          "My Network/Data Scientist",
          "My Network/Analista de datos",
          "My Network/Asesor",
          "My Network/Analista",
          "My Network/Economista",
          "My Network/Presidente",
          "My Network/Director",
          "My Network/Investigador",
          "My Network/Consultor/a",
          "My Network/Consultor/a",
          "My Network/Research Analyst",
          "My Network/Director",
          "My Network/Presidente",
          "My Network/Presidente",
          "My Network/Director",
          "My Network/Presidente",
          "My Network/Data Scientist",
          "My Network/Atención al cliente",
          "My Network/Data Scientist",
          "My Network/Economista",
          "My Network/Economista",
          "My Network/Asesor",
          "My Network/Asesor",
          "My Network/Asesor",
          "My Network/Analista de datos",
          "My Network/Analista",
          "My Network/Asesor",
          "My Network/Economista",
          "My Network/Consultor/a",
          "My Network/Economista",
          "My Network/Atención al cliente",
          "My Network/Consultor/a",
          "My Network/Presidente",
          "My Network/CEO ",
          "My Network/Data Scientist",
          "My Network/Economista",
          "My Network/Economista",
          "My Network/Presidente",
          "My Network/Data Scientist",
          "My Network/Economista",
          "My Network/Research Analyst",
          "My Network/Analista BI",
          "My Network/Data Scientist",
          "My Network/Talent Acquisition Specialist",
          "My Network/Investigador",
          "My Network/Investigador",
          "My Network/Profesor",
          "My Network/Profesor",
          "My Network/Investigador",
          "My Network/Gerente",
          "My Network/Data Scientist",
          "My Network/Data Scientist",
          "My Network/Data Scientist",
          "My Network/Atención al cliente",
          "My Network/Atención al cliente",
          "My Network/Analista económico",
          "My Network",
          "My Network",
          "My Network",
          "My Network",
          "My Network",
          "My Network",
          "My Network",
          "My Network",
          "My Network",
          "My Network",
          "My Network",
          "My Network",
          "My Network",
          "My Network",
          "My Network",
          "My Network",
          "My Network",
          "My Network",
          "My Network",
          "My Network",
          "My Network",
          ""
         ],
         "type": "treemap",
         "values": [
          1,
          1,
          1,
          3,
          1,
          1,
          1,
          1,
          1,
          1,
          1,
          1,
          1,
          1,
          1,
          1,
          1,
          1,
          1,
          1,
          1,
          1,
          1,
          1,
          1,
          1,
          1,
          1,
          1,
          1,
          1,
          1,
          1,
          1,
          1,
          1,
          1,
          1,
          1,
          1,
          1,
          1,
          1,
          1,
          2,
          1,
          1,
          1,
          1,
          1,
          1,
          1,
          1,
          1,
          1,
          1,
          1,
          1,
          1,
          1,
          1,
          1,
          1,
          1,
          1,
          1,
          1,
          1,
          1,
          1,
          1,
          1,
          1,
          1,
          3,
          1,
          1,
          1,
          1,
          1,
          1,
          1,
          1,
          1,
          3,
          1,
          4,
          1,
          1,
          1,
          1,
          1,
          1,
          1,
          1,
          1,
          1,
          1,
          1,
          5,
          3,
          6,
          4,
          5,
          2,
          4,
          2,
          3,
          10,
          14,
          4,
          14,
          2,
          4,
          7,
          2,
          7,
          4,
          3,
          4,
          109
         ]
        }
       ],
       "layout": {
        "height": 1000,
        "legend": {
         "tracegroupgap": 0
        },
        "margin": {
         "t": 60
        },
        "template": {
         "data": {
          "bar": [
           {
            "error_x": {
             "color": "#2a3f5f"
            },
            "error_y": {
             "color": "#2a3f5f"
            },
            "marker": {
             "line": {
              "color": "#E5ECF6",
              "width": 0.5
             }
            },
            "type": "bar"
           }
          ],
          "barpolar": [
           {
            "marker": {
             "line": {
              "color": "#E5ECF6",
              "width": 0.5
             }
            },
            "type": "barpolar"
           }
          ],
          "carpet": [
           {
            "aaxis": {
             "endlinecolor": "#2a3f5f",
             "gridcolor": "white",
             "linecolor": "white",
             "minorgridcolor": "white",
             "startlinecolor": "#2a3f5f"
            },
            "baxis": {
             "endlinecolor": "#2a3f5f",
             "gridcolor": "white",
             "linecolor": "white",
             "minorgridcolor": "white",
             "startlinecolor": "#2a3f5f"
            },
            "type": "carpet"
           }
          ],
          "choropleth": [
           {
            "colorbar": {
             "outlinewidth": 0,
             "ticks": ""
            },
            "type": "choropleth"
           }
          ],
          "contour": [
           {
            "colorbar": {
             "outlinewidth": 0,
             "ticks": ""
            },
            "colorscale": [
             [
              0,
              "#0d0887"
             ],
             [
              0.1111111111111111,
              "#46039f"
             ],
             [
              0.2222222222222222,
              "#7201a8"
             ],
             [
              0.3333333333333333,
              "#9c179e"
             ],
             [
              0.4444444444444444,
              "#bd3786"
             ],
             [
              0.5555555555555556,
              "#d8576b"
             ],
             [
              0.6666666666666666,
              "#ed7953"
             ],
             [
              0.7777777777777778,
              "#fb9f3a"
             ],
             [
              0.8888888888888888,
              "#fdca26"
             ],
             [
              1,
              "#f0f921"
             ]
            ],
            "type": "contour"
           }
          ],
          "contourcarpet": [
           {
            "colorbar": {
             "outlinewidth": 0,
             "ticks": ""
            },
            "type": "contourcarpet"
           }
          ],
          "heatmap": [
           {
            "colorbar": {
             "outlinewidth": 0,
             "ticks": ""
            },
            "colorscale": [
             [
              0,
              "#0d0887"
             ],
             [
              0.1111111111111111,
              "#46039f"
             ],
             [
              0.2222222222222222,
              "#7201a8"
             ],
             [
              0.3333333333333333,
              "#9c179e"
             ],
             [
              0.4444444444444444,
              "#bd3786"
             ],
             [
              0.5555555555555556,
              "#d8576b"
             ],
             [
              0.6666666666666666,
              "#ed7953"
             ],
             [
              0.7777777777777778,
              "#fb9f3a"
             ],
             [
              0.8888888888888888,
              "#fdca26"
             ],
             [
              1,
              "#f0f921"
             ]
            ],
            "type": "heatmap"
           }
          ],
          "heatmapgl": [
           {
            "colorbar": {
             "outlinewidth": 0,
             "ticks": ""
            },
            "colorscale": [
             [
              0,
              "#0d0887"
             ],
             [
              0.1111111111111111,
              "#46039f"
             ],
             [
              0.2222222222222222,
              "#7201a8"
             ],
             [
              0.3333333333333333,
              "#9c179e"
             ],
             [
              0.4444444444444444,
              "#bd3786"
             ],
             [
              0.5555555555555556,
              "#d8576b"
             ],
             [
              0.6666666666666666,
              "#ed7953"
             ],
             [
              0.7777777777777778,
              "#fb9f3a"
             ],
             [
              0.8888888888888888,
              "#fdca26"
             ],
             [
              1,
              "#f0f921"
             ]
            ],
            "type": "heatmapgl"
           }
          ],
          "histogram": [
           {
            "marker": {
             "colorbar": {
              "outlinewidth": 0,
              "ticks": ""
             }
            },
            "type": "histogram"
           }
          ],
          "histogram2d": [
           {
            "colorbar": {
             "outlinewidth": 0,
             "ticks": ""
            },
            "colorscale": [
             [
              0,
              "#0d0887"
             ],
             [
              0.1111111111111111,
              "#46039f"
             ],
             [
              0.2222222222222222,
              "#7201a8"
             ],
             [
              0.3333333333333333,
              "#9c179e"
             ],
             [
              0.4444444444444444,
              "#bd3786"
             ],
             [
              0.5555555555555556,
              "#d8576b"
             ],
             [
              0.6666666666666666,
              "#ed7953"
             ],
             [
              0.7777777777777778,
              "#fb9f3a"
             ],
             [
              0.8888888888888888,
              "#fdca26"
             ],
             [
              1,
              "#f0f921"
             ]
            ],
            "type": "histogram2d"
           }
          ],
          "histogram2dcontour": [
           {
            "colorbar": {
             "outlinewidth": 0,
             "ticks": ""
            },
            "colorscale": [
             [
              0,
              "#0d0887"
             ],
             [
              0.1111111111111111,
              "#46039f"
             ],
             [
              0.2222222222222222,
              "#7201a8"
             ],
             [
              0.3333333333333333,
              "#9c179e"
             ],
             [
              0.4444444444444444,
              "#bd3786"
             ],
             [
              0.5555555555555556,
              "#d8576b"
             ],
             [
              0.6666666666666666,
              "#ed7953"
             ],
             [
              0.7777777777777778,
              "#fb9f3a"
             ],
             [
              0.8888888888888888,
              "#fdca26"
             ],
             [
              1,
              "#f0f921"
             ]
            ],
            "type": "histogram2dcontour"
           }
          ],
          "mesh3d": [
           {
            "colorbar": {
             "outlinewidth": 0,
             "ticks": ""
            },
            "type": "mesh3d"
           }
          ],
          "parcoords": [
           {
            "line": {
             "colorbar": {
              "outlinewidth": 0,
              "ticks": ""
             }
            },
            "type": "parcoords"
           }
          ],
          "pie": [
           {
            "automargin": true,
            "type": "pie"
           }
          ],
          "scatter": [
           {
            "marker": {
             "colorbar": {
              "outlinewidth": 0,
              "ticks": ""
             }
            },
            "type": "scatter"
           }
          ],
          "scatter3d": [
           {
            "line": {
             "colorbar": {
              "outlinewidth": 0,
              "ticks": ""
             }
            },
            "marker": {
             "colorbar": {
              "outlinewidth": 0,
              "ticks": ""
             }
            },
            "type": "scatter3d"
           }
          ],
          "scattercarpet": [
           {
            "marker": {
             "colorbar": {
              "outlinewidth": 0,
              "ticks": ""
             }
            },
            "type": "scattercarpet"
           }
          ],
          "scattergeo": [
           {
            "marker": {
             "colorbar": {
              "outlinewidth": 0,
              "ticks": ""
             }
            },
            "type": "scattergeo"
           }
          ],
          "scattergl": [
           {
            "marker": {
             "colorbar": {
              "outlinewidth": 0,
              "ticks": ""
             }
            },
            "type": "scattergl"
           }
          ],
          "scattermapbox": [
           {
            "marker": {
             "colorbar": {
              "outlinewidth": 0,
              "ticks": ""
             }
            },
            "type": "scattermapbox"
           }
          ],
          "scatterpolar": [
           {
            "marker": {
             "colorbar": {
              "outlinewidth": 0,
              "ticks": ""
             }
            },
            "type": "scatterpolar"
           }
          ],
          "scatterpolargl": [
           {
            "marker": {
             "colorbar": {
              "outlinewidth": 0,
              "ticks": ""
             }
            },
            "type": "scatterpolargl"
           }
          ],
          "scatterternary": [
           {
            "marker": {
             "colorbar": {
              "outlinewidth": 0,
              "ticks": ""
             }
            },
            "type": "scatterternary"
           }
          ],
          "surface": [
           {
            "colorbar": {
             "outlinewidth": 0,
             "ticks": ""
            },
            "colorscale": [
             [
              0,
              "#0d0887"
             ],
             [
              0.1111111111111111,
              "#46039f"
             ],
             [
              0.2222222222222222,
              "#7201a8"
             ],
             [
              0.3333333333333333,
              "#9c179e"
             ],
             [
              0.4444444444444444,
              "#bd3786"
             ],
             [
              0.5555555555555556,
              "#d8576b"
             ],
             [
              0.6666666666666666,
              "#ed7953"
             ],
             [
              0.7777777777777778,
              "#fb9f3a"
             ],
             [
              0.8888888888888888,
              "#fdca26"
             ],
             [
              1,
              "#f0f921"
             ]
            ],
            "type": "surface"
           }
          ],
          "table": [
           {
            "cells": {
             "fill": {
              "color": "#EBF0F8"
             },
             "line": {
              "color": "white"
             }
            },
            "header": {
             "fill": {
              "color": "#C8D4E3"
             },
             "line": {
              "color": "white"
             }
            },
            "type": "table"
           }
          ]
         },
         "layout": {
          "annotationdefaults": {
           "arrowcolor": "#2a3f5f",
           "arrowhead": 0,
           "arrowwidth": 1
          },
          "coloraxis": {
           "colorbar": {
            "outlinewidth": 0,
            "ticks": ""
           }
          },
          "colorscale": {
           "diverging": [
            [
             0,
             "#8e0152"
            ],
            [
             0.1,
             "#c51b7d"
            ],
            [
             0.2,
             "#de77ae"
            ],
            [
             0.3,
             "#f1b6da"
            ],
            [
             0.4,
             "#fde0ef"
            ],
            [
             0.5,
             "#f7f7f7"
            ],
            [
             0.6,
             "#e6f5d0"
            ],
            [
             0.7,
             "#b8e186"
            ],
            [
             0.8,
             "#7fbc41"
            ],
            [
             0.9,
             "#4d9221"
            ],
            [
             1,
             "#276419"
            ]
           ],
           "sequential": [
            [
             0,
             "#0d0887"
            ],
            [
             0.1111111111111111,
             "#46039f"
            ],
            [
             0.2222222222222222,
             "#7201a8"
            ],
            [
             0.3333333333333333,
             "#9c179e"
            ],
            [
             0.4444444444444444,
             "#bd3786"
            ],
            [
             0.5555555555555556,
             "#d8576b"
            ],
            [
             0.6666666666666666,
             "#ed7953"
            ],
            [
             0.7777777777777778,
             "#fb9f3a"
            ],
            [
             0.8888888888888888,
             "#fdca26"
            ],
            [
             1,
             "#f0f921"
            ]
           ],
           "sequentialminus": [
            [
             0,
             "#0d0887"
            ],
            [
             0.1111111111111111,
             "#46039f"
            ],
            [
             0.2222222222222222,
             "#7201a8"
            ],
            [
             0.3333333333333333,
             "#9c179e"
            ],
            [
             0.4444444444444444,
             "#bd3786"
            ],
            [
             0.5555555555555556,
             "#d8576b"
            ],
            [
             0.6666666666666666,
             "#ed7953"
            ],
            [
             0.7777777777777778,
             "#fb9f3a"
            ],
            [
             0.8888888888888888,
             "#fdca26"
            ],
            [
             1,
             "#f0f921"
            ]
           ]
          },
          "colorway": [
           "#636efa",
           "#EF553B",
           "#00cc96",
           "#ab63fa",
           "#FFA15A",
           "#19d3f3",
           "#FF6692",
           "#B6E880",
           "#FF97FF",
           "#FECB52"
          ],
          "font": {
           "color": "#2a3f5f"
          },
          "geo": {
           "bgcolor": "white",
           "lakecolor": "white",
           "landcolor": "#E5ECF6",
           "showlakes": true,
           "showland": true,
           "subunitcolor": "white"
          },
          "hoverlabel": {
           "align": "left"
          },
          "hovermode": "closest",
          "mapbox": {
           "style": "light"
          },
          "paper_bgcolor": "white",
          "plot_bgcolor": "#E5ECF6",
          "polar": {
           "angularaxis": {
            "gridcolor": "white",
            "linecolor": "white",
            "ticks": ""
           },
           "bgcolor": "#E5ECF6",
           "radialaxis": {
            "gridcolor": "white",
            "linecolor": "white",
            "ticks": ""
           }
          },
          "scene": {
           "xaxis": {
            "backgroundcolor": "#E5ECF6",
            "gridcolor": "white",
            "gridwidth": 2,
            "linecolor": "white",
            "showbackground": true,
            "ticks": "",
            "zerolinecolor": "white"
           },
           "yaxis": {
            "backgroundcolor": "#E5ECF6",
            "gridcolor": "white",
            "gridwidth": 2,
            "linecolor": "white",
            "showbackground": true,
            "ticks": "",
            "zerolinecolor": "white"
           },
           "zaxis": {
            "backgroundcolor": "#E5ECF6",
            "gridcolor": "white",
            "gridwidth": 2,
            "linecolor": "white",
            "showbackground": true,
            "ticks": "",
            "zerolinecolor": "white"
           }
          },
          "shapedefaults": {
           "line": {
            "color": "#2a3f5f"
           }
          },
          "ternary": {
           "aaxis": {
            "gridcolor": "white",
            "linecolor": "white",
            "ticks": ""
           },
           "baxis": {
            "gridcolor": "white",
            "linecolor": "white",
            "ticks": ""
           },
           "bgcolor": "#E5ECF6",
           "caxis": {
            "gridcolor": "white",
            "linecolor": "white",
            "ticks": ""
           }
          },
          "title": {
           "x": 0.05
          },
          "xaxis": {
           "automargin": true,
           "gridcolor": "white",
           "linecolor": "white",
           "ticks": "",
           "title": {
            "standoff": 15
           },
           "zerolinecolor": "white",
           "zerolinewidth": 2
          },
          "yaxis": {
           "automargin": true,
           "gridcolor": "white",
           "linecolor": "white",
           "ticks": "",
           "title": {
            "standoff": 15
           },
           "zerolinecolor": "white",
           "zerolinewidth": 2
          }
         }
        },
        "width": 1000
       }
      },
      "text/html": [
       "<div>\n",
       "        \n",
       "        \n",
       "            <div id=\"be56053f-e01a-454b-890d-45dfcd9dd5e7\" class=\"plotly-graph-div\" style=\"height:1000px; width:1000px;\"></div>\n",
       "            <script type=\"text/javascript\">\n",
       "                require([\"plotly\"], function(Plotly) {\n",
       "                    window.PLOTLYENV=window.PLOTLYENV || {};\n",
       "                    \n",
       "                if (document.getElementById(\"be56053f-e01a-454b-890d-45dfcd9dd5e7\")) {\n",
       "                    Plotly.newPlot(\n",
       "                        'be56053f-e01a-454b-890d-45dfcd9dd5e7',\n",
       "                        [{\"branchvalues\": \"total\", \"domain\": {\"x\": [0.0, 1.0], \"y\": [0.0, 1.0]}, \"hoverlabel\": {\"namelength\": 0}, \"hovertemplate\": \"labels=%{label}<br>count=%{value}<br>parent=%{parent}<br>id=%{id}\", \"ids\": [\"My Network/Economista/  CF&P   \", \"My Network/Analista/AFIP\", \"My Network/Consultor/a/AG\", \"My Network/Client Financial Management Analyst/Accenture\", \"My Network/Consultor/a/AlixPartners\", \"My Network/Gerente/BANCO DE LA NACION ARGENTINA\", \"My Network/Data Scientist/BB-BUSINESS BUREAU\", \"My Network/Data Scientist/BNP Paribas Cardif\", \"My Network/Data Scientist/Badi\", \"My Network/Analista/Banco Galicia\", \"My Network/Analista de datos/Bint group\", \"My Network/Investigador/CEDES\", \"My Network/Research Analyst/CELIV UNTREF\", \"My Network/Investigador/CIPPEC\", \"My Network/Economista/CNN Radio Argentina\", \"My Network/Economista/CNRT\", \"My Network/Profesor/Centro de e-Learning UTN BA\", \"My Network/Consultor/a/Comisi\\u00f3n Econ\\u00f3mica para Am\\u00e9rica Latina y el Caribe (CEPAL)\", \"My Network/Analista econ\\u00f3mico/Comisi\\u00f3n Nacional de Defensa de la Competencia\", \"My Network/Investigador/Consejo Nacional de Investigaciones Cient\\u00edficas y T\\u00e9cnicas\", \"My Network/Asesor financiero/Consultora\", \"My Network/Analista de datos/CredixSA\", \"My Network/Gerente/Deener - Accesorios para ba\\u00f1o\", \"My Network/Founder/DeepData\", \"My Network/Data Scientist/Despegar\", \"My Network/Analista/Direcci\\u00f3n Provincial de Estad\\u00edstica - Ministerio de Hacienda y Finanzas de la Pcia. de Buenos Aires\", \"My Network/Economista/Direcci\\u00f3n Provincial de Estad\\u00edstica, Ministerio de Hacienda y Finanzas - PBA.\", \"My Network/Pasante/E.E.S.T N\\u00ba 4 \\\"I Brigada Aerea El palomar Profesor Hector A. Laguarde\\\"\", \"My Network/Founder/EANT - Escuela Argentina de Nuevas Tecnolog\\u00edas\", \"My Network/Analista econ\\u00f3mico/ENARGAS\", \"My Network/Profesor/ESCUELAS DE EDUCACI\\u00d3N SECUNDARIA GENERAL DEL SECTOR P\\u00daBLICO\", \"My Network/Analista econ\\u00f3mico/Eco Go Consultores\", \"My Network/Economista/Ecolatina\", \"My Network/Pasante/Editorial R\\u00edo Negro S.A.\", \"My Network/CEO /Einstein Electronics Security \", \"My Network/Gerente/Enersol Ingenier\\u00eda - Energ\\u00edas Renovables\", \"My Network/Presidente/FIDE - Fundaci\\u00f3n de Investigaciones para el Desarrollo\", \"My Network/Economista/FIEL\", \"My Network/Director/Finance Dreams\", \"My Network/Data Scientist/Freelance / Advisor\", \"My Network/Consultor/a/Frelance worker\", \"My Network/Analista de datos/Fundaci\\u00f3n Frontera Econ\\u00f3mica \", \"My Network/Asesor financiero/GRUPO LOYALTY\", \"My Network/Data Scientist/Global Hitss\", \"My Network/Analista de datos/Gobierno de la Ciudad de Buenos Aires\", \"My Network/Asesor/Gobierno de la Ciudad de Buenos Aires\", \"My Network/Analista/Hospital Italiano de Buenos Aires\", \"My Network/Economista/IDB Invest\", \"My Network/Presidente/IMEPHO materiales de construccion \", \"My Network/Director/IPIT\", \"My Network/Investigador/Instituto de Investigaciones Econ\\u00f3micas - FCE UNLP\", \"My Network/Consultor/a/Inter-American Development Bank\", \"My Network/Consultor/a/International Fund for Agricultural Development\", \"My Network/Research Analyst/International Monetary Fund\", \"My Network/Director/Invecq Consulting SA\", \"My Network/Presidente/Invecq Consulting SA\", \"My Network/Presidente/Juguetes del Puerto Ltda.\", \"My Network/Director/K - TIC Software de optimizaci\\u00f3n integral\", \"My Network/Presidente/Lancellotti S. A.\", \"My Network/Data Scientist/MURAL\", \"My Network/Atenci\\u00f3n al cliente/Mercado Libre\", \"My Network/Data Scientist/Mercado Libre\", \"My Network/Economista/Mills Capital Group\", \"My Network/Economista/Ministerio de Desarrollo Productivo de la Naci\\u00f3n\", \"My Network/Asesor/Ministerio de Educaci\\u00f3n de la Naci\\u00f3n\", \"My Network/Asesor/Ministerio de Hacienda\", \"My Network/Asesor/Ministerio de Obras P\\u00fablicas\", \"My Network/Analista de datos/Ministerio de Producci\\u00f3n y Trabajo de la Naci\\u00f3n\", \"My Network/Analista/Ministerio del Interior, Obras P\\u00fablicas y Vivienda\", \"My Network/Asesor/Ministerio del Interior, Obras P\\u00fablicas y Vivienda\", \"My Network/Economista/Municipio de Tigre\", \"My Network/Consultor/a/NetSuite\", \"My Network/Economista/Observatorio de Economia Social y Solidaria UNQui\", \"My Network/Atenci\\u00f3n al cliente/Optica Trevelin\", \"My Network/Consultor/a/Oracle\", \"My Network/Presidente/POLO INDUSTRIAL EZEIZA\", \"My Network/CEO /Pampa Marketing\", \"My Network/Data Scientist/Prisma\", \"My Network/Economista/PxQ Consultora\", \"My Network/Economista/QUANT innovaci\\u00f3n social \", \"My Network/Presidente/Quinquela Fondos\", \"My Network/Data Scientist/Santander Argentina\", \"My Network/Economista/The World Bank\", \"My Network/Research Analyst/The World Bank\", \"My Network/Analista BI/Ual\\u00e1\", \"My Network/Data Scientist/Ual\\u00e1\", \"My Network/Talent Acquisition Specialist/Ual\\u00e1\", \"My Network/Investigador/Universidad Nacional de General Sarmiento\", \"My Network/Investigador/Universidad Nacional de La Plata\", \"My Network/Profesor/Universidad Nacional de Moreno (UNM)\", \"My Network/Profesor/Universidad Siglo 21\", \"My Network/Investigador/Universidad de Buenos Aires\", \"My Network/Gerente/Vision Led\", \"My Network/Data Scientist/Wenance\", \"My Network/Data Scientist/YPF\", \"My Network/Data Scientist/Zurich Santander Seguros\", \"My Network/Atenci\\u00f3n al cliente/antigua torino\", \"My Network/Atenci\\u00f3n al cliente/invertirOnline.com\", \"My Network/Analista econ\\u00f3mico/investBA - Agencia de Promoci\\u00f3n de Inversiones y Comercio Exterior de la Ciudad de Buenos Aires\", \"My Network/Analista\", \"My Network/Analista BI\", \"My Network/Analista de datos\", \"My Network/Analista econ\\u00f3mico\", \"My Network/Asesor\", \"My Network/Asesor financiero\", \"My Network/Atenci\\u00f3n al cliente\", \"My Network/CEO \", \"My Network/Client Financial Management Analyst\", \"My Network/Consultor/a\", \"My Network/Data Scientist\", \"My Network/Director\", \"My Network/Economista\", \"My Network/Founder\", \"My Network/Gerente\", \"My Network/Investigador\", \"My Network/Pasante\", \"My Network/Presidente\", \"My Network/Profesor\", \"My Network/Research Analyst\", \"My Network/Talent Acquisition Specialist\", \"My Network\"], \"labels\": [\"  CF&P   \", \"AFIP\", \"AG\", \"Accenture\", \"AlixPartners\", \"BANCO DE LA NACION ARGENTINA\", \"BB-BUSINESS BUREAU\", \"BNP Paribas Cardif\", \"Badi\", \"Banco Galicia\", \"Bint group\", \"CEDES\", \"CELIV UNTREF\", \"CIPPEC\", \"CNN Radio Argentina\", \"CNRT\", \"Centro de e-Learning UTN BA\", \"Comisi\\u00f3n Econ\\u00f3mica para Am\\u00e9rica Latina y el Caribe (CEPAL)\", \"Comisi\\u00f3n Nacional de Defensa de la Competencia\", \"Consejo Nacional de Investigaciones Cient\\u00edficas y T\\u00e9cnicas\", \"Consultora\", \"CredixSA\", \"Deener - Accesorios para ba\\u00f1o\", \"DeepData\", \"Despegar\", \"Direcci\\u00f3n Provincial de Estad\\u00edstica - Ministerio de Hacienda y Finanzas de la Pcia. de Buenos Aires\", \"Direcci\\u00f3n Provincial de Estad\\u00edstica, Ministerio de Hacienda y Finanzas - PBA.\", \"E.E.S.T N\\u00ba 4 \\\"I Brigada Aerea El palomar Profesor Hector A. Laguarde\\\"\", \"EANT - Escuela Argentina de Nuevas Tecnolog\\u00edas\", \"ENARGAS\", \"ESCUELAS DE EDUCACI\\u00d3N SECUNDARIA GENERAL DEL SECTOR P\\u00daBLICO\", \"Eco Go Consultores\", \"Ecolatina\", \"Editorial R\\u00edo Negro S.A.\", \"Einstein Electronics Security \", \"Enersol Ingenier\\u00eda - Energ\\u00edas Renovables\", \"FIDE - Fundaci\\u00f3n de Investigaciones para el Desarrollo\", \"FIEL\", \"Finance Dreams\", \"Freelance / Advisor\", \"Frelance worker\", \"Fundaci\\u00f3n Frontera Econ\\u00f3mica \", \"GRUPO LOYALTY\", \"Global Hitss\", \"Gobierno de la Ciudad de Buenos Aires\", \"Gobierno de la Ciudad de Buenos Aires\", \"Hospital Italiano de Buenos Aires\", \"IDB Invest\", \"IMEPHO materiales de construccion \", \"IPIT\", \"Instituto de Investigaciones Econ\\u00f3micas - FCE UNLP\", \"Inter-American Development Bank\", \"International Fund for Agricultural Development\", \"International Monetary Fund\", \"Invecq Consulting SA\", \"Invecq Consulting SA\", \"Juguetes del Puerto Ltda.\", \"K - TIC Software de optimizaci\\u00f3n integral\", \"Lancellotti S. A.\", \"MURAL\", \"Mercado Libre\", \"Mercado Libre\", \"Mills Capital Group\", \"Ministerio de Desarrollo Productivo de la Naci\\u00f3n\", \"Ministerio de Educaci\\u00f3n de la Naci\\u00f3n\", \"Ministerio de Hacienda\", \"Ministerio de Obras P\\u00fablicas\", \"Ministerio de Producci\\u00f3n y Trabajo de la Naci\\u00f3n\", \"Ministerio del Interior, Obras P\\u00fablicas y Vivienda\", \"Ministerio del Interior, Obras P\\u00fablicas y Vivienda\", \"Municipio de Tigre\", \"NetSuite\", \"Observatorio de Economia Social y Solidaria UNQui\", \"Optica Trevelin\", \"Oracle\", \"POLO INDUSTRIAL EZEIZA\", \"Pampa Marketing\", \"Prisma\", \"PxQ Consultora\", \"QUANT innovaci\\u00f3n social \", \"Quinquela Fondos\", \"Santander Argentina\", \"The World Bank\", \"The World Bank\", \"Ual\\u00e1\", \"Ual\\u00e1\", \"Ual\\u00e1\", \"Universidad Nacional de General Sarmiento\", \"Universidad Nacional de La Plata\", \"Universidad Nacional de Moreno (UNM)\", \"Universidad Siglo 21\", \"Universidad de Buenos Aires\", \"Vision Led\", \"Wenance\", \"YPF\", \"Zurich Santander Seguros\", \"antigua torino\", \"invertirOnline.com\", \"investBA - Agencia de Promoci\\u00f3n de Inversiones y Comercio Exterior de la Ciudad de Buenos Aires\", \"Analista\", \"Analista BI\", \"Analista de datos\", \"Analista econ\\u00f3mico\", \"Asesor\", \"Asesor financiero\", \"Atenci\\u00f3n al cliente\", \"CEO \", \"Client Financial Management Analyst\", \"Consultor/a\", \"Data Scientist\", \"Director\", \"Economista\", \"Founder\", \"Gerente\", \"Investigador\", \"Pasante\", \"Presidente\", \"Profesor\", \"Research Analyst\", \"Talent Acquisition Specialist\", \"My Network\"], \"name\": \"\", \"parents\": [\"My Network/Economista\", \"My Network/Analista\", \"My Network/Consultor/a\", \"My Network/Client Financial Management Analyst\", \"My Network/Consultor/a\", \"My Network/Gerente\", \"My Network/Data Scientist\", \"My Network/Data Scientist\", \"My Network/Data Scientist\", \"My Network/Analista\", \"My Network/Analista de datos\", \"My Network/Investigador\", \"My Network/Research Analyst\", \"My Network/Investigador\", \"My Network/Economista\", \"My Network/Economista\", \"My Network/Profesor\", \"My Network/Consultor/a\", \"My Network/Analista econ\\u00f3mico\", \"My Network/Investigador\", \"My Network/Asesor financiero\", \"My Network/Analista de datos\", \"My Network/Gerente\", \"My Network/Founder\", \"My Network/Data Scientist\", \"My Network/Analista\", \"My Network/Economista\", \"My Network/Pasante\", \"My Network/Founder\", \"My Network/Analista econ\\u00f3mico\", \"My Network/Profesor\", \"My Network/Analista econ\\u00f3mico\", \"My Network/Economista\", \"My Network/Pasante\", \"My Network/CEO \", \"My Network/Gerente\", \"My Network/Presidente\", \"My Network/Economista\", \"My Network/Director\", \"My Network/Data Scientist\", \"My Network/Consultor/a\", \"My Network/Analista de datos\", \"My Network/Asesor financiero\", \"My Network/Data Scientist\", \"My Network/Analista de datos\", \"My Network/Asesor\", \"My Network/Analista\", \"My Network/Economista\", \"My Network/Presidente\", \"My Network/Director\", \"My Network/Investigador\", \"My Network/Consultor/a\", \"My Network/Consultor/a\", \"My Network/Research Analyst\", \"My Network/Director\", \"My Network/Presidente\", \"My Network/Presidente\", \"My Network/Director\", \"My Network/Presidente\", \"My Network/Data Scientist\", \"My Network/Atenci\\u00f3n al cliente\", \"My Network/Data Scientist\", \"My Network/Economista\", \"My Network/Economista\", \"My Network/Asesor\", \"My Network/Asesor\", \"My Network/Asesor\", \"My Network/Analista de datos\", \"My Network/Analista\", \"My Network/Asesor\", \"My Network/Economista\", \"My Network/Consultor/a\", \"My Network/Economista\", \"My Network/Atenci\\u00f3n al cliente\", \"My Network/Consultor/a\", \"My Network/Presidente\", \"My Network/CEO \", \"My Network/Data Scientist\", \"My Network/Economista\", \"My Network/Economista\", \"My Network/Presidente\", \"My Network/Data Scientist\", \"My Network/Economista\", \"My Network/Research Analyst\", \"My Network/Analista BI\", \"My Network/Data Scientist\", \"My Network/Talent Acquisition Specialist\", \"My Network/Investigador\", \"My Network/Investigador\", \"My Network/Profesor\", \"My Network/Profesor\", \"My Network/Investigador\", \"My Network/Gerente\", \"My Network/Data Scientist\", \"My Network/Data Scientist\", \"My Network/Data Scientist\", \"My Network/Atenci\\u00f3n al cliente\", \"My Network/Atenci\\u00f3n al cliente\", \"My Network/Analista econ\\u00f3mico\", \"My Network\", \"My Network\", \"My Network\", \"My Network\", \"My Network\", \"My Network\", \"My Network\", \"My Network\", \"My Network\", \"My Network\", \"My Network\", \"My Network\", \"My Network\", \"My Network\", \"My Network\", \"My Network\", \"My Network\", \"My Network\", \"My Network\", \"My Network\", \"My Network\", \"\"], \"type\": \"treemap\", \"values\": [1, 1, 1, 3, 1, 1, 1, 1, 1, 1, 1, 1, 1, 1, 1, 1, 1, 1, 1, 1, 1, 1, 1, 1, 1, 1, 1, 1, 1, 1, 1, 1, 1, 1, 1, 1, 1, 1, 1, 1, 1, 1, 1, 1, 2, 1, 1, 1, 1, 1, 1, 1, 1, 1, 1, 1, 1, 1, 1, 1, 1, 1, 1, 1, 1, 1, 1, 1, 1, 1, 1, 1, 1, 1, 3, 1, 1, 1, 1, 1, 1, 1, 1, 1, 3, 1, 4, 1, 1, 1, 1, 1, 1, 1, 1, 1, 1, 1, 1, 5, 3, 6, 4, 5, 2, 4, 2, 3, 10, 14, 4, 14, 2, 4, 7, 2, 7, 4, 3, 4, 109]}],\n",
       "                        {\"height\": 1000, \"legend\": {\"tracegroupgap\": 0}, \"margin\": {\"t\": 60}, \"template\": {\"data\": {\"bar\": [{\"error_x\": {\"color\": \"#2a3f5f\"}, \"error_y\": {\"color\": \"#2a3f5f\"}, \"marker\": {\"line\": {\"color\": \"#E5ECF6\", \"width\": 0.5}}, \"type\": \"bar\"}], \"barpolar\": [{\"marker\": {\"line\": {\"color\": \"#E5ECF6\", \"width\": 0.5}}, \"type\": \"barpolar\"}], \"carpet\": [{\"aaxis\": {\"endlinecolor\": \"#2a3f5f\", \"gridcolor\": \"white\", \"linecolor\": \"white\", \"minorgridcolor\": \"white\", \"startlinecolor\": \"#2a3f5f\"}, \"baxis\": {\"endlinecolor\": \"#2a3f5f\", \"gridcolor\": \"white\", \"linecolor\": \"white\", \"minorgridcolor\": \"white\", \"startlinecolor\": \"#2a3f5f\"}, \"type\": \"carpet\"}], \"choropleth\": [{\"colorbar\": {\"outlinewidth\": 0, \"ticks\": \"\"}, \"type\": \"choropleth\"}], \"contour\": [{\"colorbar\": {\"outlinewidth\": 0, \"ticks\": \"\"}, \"colorscale\": [[0.0, \"#0d0887\"], [0.1111111111111111, \"#46039f\"], [0.2222222222222222, \"#7201a8\"], [0.3333333333333333, \"#9c179e\"], [0.4444444444444444, \"#bd3786\"], [0.5555555555555556, \"#d8576b\"], [0.6666666666666666, \"#ed7953\"], [0.7777777777777778, \"#fb9f3a\"], [0.8888888888888888, \"#fdca26\"], [1.0, \"#f0f921\"]], \"type\": \"contour\"}], \"contourcarpet\": [{\"colorbar\": {\"outlinewidth\": 0, \"ticks\": \"\"}, \"type\": \"contourcarpet\"}], \"heatmap\": [{\"colorbar\": {\"outlinewidth\": 0, \"ticks\": \"\"}, \"colorscale\": [[0.0, \"#0d0887\"], [0.1111111111111111, \"#46039f\"], [0.2222222222222222, \"#7201a8\"], [0.3333333333333333, \"#9c179e\"], [0.4444444444444444, \"#bd3786\"], [0.5555555555555556, \"#d8576b\"], [0.6666666666666666, \"#ed7953\"], [0.7777777777777778, \"#fb9f3a\"], [0.8888888888888888, \"#fdca26\"], [1.0, \"#f0f921\"]], \"type\": \"heatmap\"}], \"heatmapgl\": [{\"colorbar\": {\"outlinewidth\": 0, \"ticks\": \"\"}, \"colorscale\": [[0.0, \"#0d0887\"], [0.1111111111111111, \"#46039f\"], [0.2222222222222222, \"#7201a8\"], [0.3333333333333333, \"#9c179e\"], [0.4444444444444444, \"#bd3786\"], [0.5555555555555556, \"#d8576b\"], [0.6666666666666666, \"#ed7953\"], [0.7777777777777778, \"#fb9f3a\"], [0.8888888888888888, \"#fdca26\"], [1.0, \"#f0f921\"]], \"type\": \"heatmapgl\"}], \"histogram\": [{\"marker\": {\"colorbar\": {\"outlinewidth\": 0, \"ticks\": \"\"}}, \"type\": \"histogram\"}], \"histogram2d\": [{\"colorbar\": {\"outlinewidth\": 0, \"ticks\": \"\"}, \"colorscale\": [[0.0, \"#0d0887\"], [0.1111111111111111, \"#46039f\"], [0.2222222222222222, \"#7201a8\"], [0.3333333333333333, \"#9c179e\"], [0.4444444444444444, \"#bd3786\"], [0.5555555555555556, \"#d8576b\"], [0.6666666666666666, \"#ed7953\"], [0.7777777777777778, \"#fb9f3a\"], [0.8888888888888888, \"#fdca26\"], [1.0, \"#f0f921\"]], \"type\": \"histogram2d\"}], \"histogram2dcontour\": [{\"colorbar\": {\"outlinewidth\": 0, \"ticks\": \"\"}, \"colorscale\": [[0.0, \"#0d0887\"], [0.1111111111111111, \"#46039f\"], [0.2222222222222222, \"#7201a8\"], [0.3333333333333333, \"#9c179e\"], [0.4444444444444444, \"#bd3786\"], [0.5555555555555556, \"#d8576b\"], [0.6666666666666666, \"#ed7953\"], [0.7777777777777778, \"#fb9f3a\"], [0.8888888888888888, \"#fdca26\"], [1.0, \"#f0f921\"]], \"type\": \"histogram2dcontour\"}], \"mesh3d\": [{\"colorbar\": {\"outlinewidth\": 0, \"ticks\": \"\"}, \"type\": \"mesh3d\"}], \"parcoords\": [{\"line\": {\"colorbar\": {\"outlinewidth\": 0, \"ticks\": \"\"}}, \"type\": \"parcoords\"}], \"pie\": [{\"automargin\": true, \"type\": \"pie\"}], \"scatter\": [{\"marker\": {\"colorbar\": {\"outlinewidth\": 0, \"ticks\": \"\"}}, \"type\": \"scatter\"}], \"scatter3d\": [{\"line\": {\"colorbar\": {\"outlinewidth\": 0, \"ticks\": \"\"}}, \"marker\": {\"colorbar\": {\"outlinewidth\": 0, \"ticks\": \"\"}}, \"type\": \"scatter3d\"}], \"scattercarpet\": [{\"marker\": {\"colorbar\": {\"outlinewidth\": 0, \"ticks\": \"\"}}, \"type\": \"scattercarpet\"}], \"scattergeo\": [{\"marker\": {\"colorbar\": {\"outlinewidth\": 0, \"ticks\": \"\"}}, \"type\": \"scattergeo\"}], \"scattergl\": [{\"marker\": {\"colorbar\": {\"outlinewidth\": 0, \"ticks\": \"\"}}, \"type\": \"scattergl\"}], \"scattermapbox\": [{\"marker\": {\"colorbar\": {\"outlinewidth\": 0, \"ticks\": \"\"}}, \"type\": \"scattermapbox\"}], \"scatterpolar\": [{\"marker\": {\"colorbar\": {\"outlinewidth\": 0, \"ticks\": \"\"}}, \"type\": \"scatterpolar\"}], \"scatterpolargl\": [{\"marker\": {\"colorbar\": {\"outlinewidth\": 0, \"ticks\": \"\"}}, \"type\": \"scatterpolargl\"}], \"scatterternary\": [{\"marker\": {\"colorbar\": {\"outlinewidth\": 0, \"ticks\": \"\"}}, \"type\": \"scatterternary\"}], \"surface\": [{\"colorbar\": {\"outlinewidth\": 0, \"ticks\": \"\"}, \"colorscale\": [[0.0, \"#0d0887\"], [0.1111111111111111, \"#46039f\"], [0.2222222222222222, \"#7201a8\"], [0.3333333333333333, \"#9c179e\"], [0.4444444444444444, \"#bd3786\"], [0.5555555555555556, \"#d8576b\"], [0.6666666666666666, \"#ed7953\"], [0.7777777777777778, \"#fb9f3a\"], [0.8888888888888888, \"#fdca26\"], [1.0, \"#f0f921\"]], \"type\": \"surface\"}], \"table\": [{\"cells\": {\"fill\": {\"color\": \"#EBF0F8\"}, \"line\": {\"color\": \"white\"}}, \"header\": {\"fill\": {\"color\": \"#C8D4E3\"}, \"line\": {\"color\": \"white\"}}, \"type\": \"table\"}]}, \"layout\": {\"annotationdefaults\": {\"arrowcolor\": \"#2a3f5f\", \"arrowhead\": 0, \"arrowwidth\": 1}, \"coloraxis\": {\"colorbar\": {\"outlinewidth\": 0, \"ticks\": \"\"}}, \"colorscale\": {\"diverging\": [[0, \"#8e0152\"], [0.1, \"#c51b7d\"], [0.2, \"#de77ae\"], [0.3, \"#f1b6da\"], [0.4, \"#fde0ef\"], [0.5, \"#f7f7f7\"], [0.6, \"#e6f5d0\"], [0.7, \"#b8e186\"], [0.8, \"#7fbc41\"], [0.9, \"#4d9221\"], [1, \"#276419\"]], \"sequential\": [[0.0, \"#0d0887\"], [0.1111111111111111, \"#46039f\"], [0.2222222222222222, \"#7201a8\"], [0.3333333333333333, \"#9c179e\"], [0.4444444444444444, \"#bd3786\"], [0.5555555555555556, \"#d8576b\"], [0.6666666666666666, \"#ed7953\"], [0.7777777777777778, \"#fb9f3a\"], [0.8888888888888888, \"#fdca26\"], [1.0, \"#f0f921\"]], \"sequentialminus\": [[0.0, \"#0d0887\"], [0.1111111111111111, \"#46039f\"], [0.2222222222222222, \"#7201a8\"], [0.3333333333333333, \"#9c179e\"], [0.4444444444444444, \"#bd3786\"], [0.5555555555555556, \"#d8576b\"], [0.6666666666666666, \"#ed7953\"], [0.7777777777777778, \"#fb9f3a\"], [0.8888888888888888, \"#fdca26\"], [1.0, \"#f0f921\"]]}, \"colorway\": [\"#636efa\", \"#EF553B\", \"#00cc96\", \"#ab63fa\", \"#FFA15A\", \"#19d3f3\", \"#FF6692\", \"#B6E880\", \"#FF97FF\", \"#FECB52\"], \"font\": {\"color\": \"#2a3f5f\"}, \"geo\": {\"bgcolor\": \"white\", \"lakecolor\": \"white\", \"landcolor\": \"#E5ECF6\", \"showlakes\": true, \"showland\": true, \"subunitcolor\": \"white\"}, \"hoverlabel\": {\"align\": \"left\"}, \"hovermode\": \"closest\", \"mapbox\": {\"style\": \"light\"}, \"paper_bgcolor\": \"white\", \"plot_bgcolor\": \"#E5ECF6\", \"polar\": {\"angularaxis\": {\"gridcolor\": \"white\", \"linecolor\": \"white\", \"ticks\": \"\"}, \"bgcolor\": \"#E5ECF6\", \"radialaxis\": {\"gridcolor\": \"white\", \"linecolor\": \"white\", \"ticks\": \"\"}}, \"scene\": {\"xaxis\": {\"backgroundcolor\": \"#E5ECF6\", \"gridcolor\": \"white\", \"gridwidth\": 2, \"linecolor\": \"white\", \"showbackground\": true, \"ticks\": \"\", \"zerolinecolor\": \"white\"}, \"yaxis\": {\"backgroundcolor\": \"#E5ECF6\", \"gridcolor\": \"white\", \"gridwidth\": 2, \"linecolor\": \"white\", \"showbackground\": true, \"ticks\": \"\", \"zerolinecolor\": \"white\"}, \"zaxis\": {\"backgroundcolor\": \"#E5ECF6\", \"gridcolor\": \"white\", \"gridwidth\": 2, \"linecolor\": \"white\", \"showbackground\": true, \"ticks\": \"\", \"zerolinecolor\": \"white\"}}, \"shapedefaults\": {\"line\": {\"color\": \"#2a3f5f\"}}, \"ternary\": {\"aaxis\": {\"gridcolor\": \"white\", \"linecolor\": \"white\", \"ticks\": \"\"}, \"baxis\": {\"gridcolor\": \"white\", \"linecolor\": \"white\", \"ticks\": \"\"}, \"bgcolor\": \"#E5ECF6\", \"caxis\": {\"gridcolor\": \"white\", \"linecolor\": \"white\", \"ticks\": \"\"}}, \"title\": {\"x\": 0.05}, \"xaxis\": {\"automargin\": true, \"gridcolor\": \"white\", \"linecolor\": \"white\", \"ticks\": \"\", \"title\": {\"standoff\": 15}, \"zerolinecolor\": \"white\", \"zerolinewidth\": 2}, \"yaxis\": {\"automargin\": true, \"gridcolor\": \"white\", \"linecolor\": \"white\", \"ticks\": \"\", \"title\": {\"standoff\": 15}, \"zerolinecolor\": \"white\", \"zerolinewidth\": 2}}}, \"width\": 1000},\n",
       "                        {\"responsive\": true}\n",
       "                    ).then(function(){\n",
       "                            \n",
       "var gd = document.getElementById('be56053f-e01a-454b-890d-45dfcd9dd5e7');\n",
       "var x = new MutationObserver(function (mutations, observer) {{\n",
       "        var display = window.getComputedStyle(gd).display;\n",
       "        if (!display || display === 'none') {{\n",
       "            console.log([gd, 'removed!']);\n",
       "            Plotly.purge(gd);\n",
       "            observer.disconnect();\n",
       "        }}\n",
       "}});\n",
       "\n",
       "// Listen for the removal of the full notebook cells\n",
       "var notebookContainer = gd.closest('#notebook-container');\n",
       "if (notebookContainer) {{\n",
       "    x.observe(notebookContainer, {childList: true});\n",
       "}}\n",
       "\n",
       "// Listen for the clearing of the current output cell\n",
       "var outputEl = gd.closest('.output');\n",
       "if (outputEl) {{\n",
       "    x.observe(outputEl, {childList: true});\n",
       "}}\n",
       "\n",
       "                        })\n",
       "                };\n",
       "                });\n",
       "            </script>\n",
       "        </div>"
      ]
     },
     "metadata": {},
     "output_type": "display_data"
    }
   ],
   "source": [
    "fig = px.treemap(df3, path=['My Network', 'Position', 'Company'], \n",
    "                 width=1000, \n",
    "                 height=1000)\n",
    "fig.show()"
   ]
  },
  {
   "cell_type": "markdown",
   "metadata": {},
   "source": [
    "### En función de la empresa"
   ]
  },
  {
   "cell_type": "code",
   "execution_count": 8,
   "metadata": {},
   "outputs": [],
   "source": [
    "df2=df[['Company']]\n",
    "df2=df2.groupby('Company').size().reset_index(name='counts').sort_values('counts', ascending=False)\n",
    "df2=df2[df2['counts']>1]\n",
    "df3=df[df['Company'].isin(df2['Company'])]\n"
   ]
  },
  {
   "cell_type": "code",
   "execution_count": 9,
   "metadata": {},
   "outputs": [
    {
     "data": {
      "application/vnd.plotly.v1+json": {
       "config": {
        "plotlyServerURL": "https://plot.ly"
       },
       "data": [
        {
         "branchvalues": "total",
         "domain": {
          "x": [
           0,
           1
          ],
          "y": [
           0,
           1
          ]
         },
         "hoverlabel": {
          "namelength": 0
         },
         "hovertemplate": "labels=%{label}<br>count=%{value}<br>parent=%{parent}<br>id=%{id}",
         "ids": [
          "My Network/Baufest/Account Manager",
          "My Network/Universidad del CEMA/Admisiones y Desarrollo Institucional",
          "My Network/Facultad de Ciencias Económicas UNLP/Adscripto Graduado",
          "My Network/AFIP/Analista",
          "My Network/Banco Galicia/Analista",
          "My Network/Hospital Italiano de Buenos Aires/Analista",
          "My Network/Ministerio del Interior, Obras Públicas y Vivienda/Analista",
          "My Network/Ualá/Analista BI",
          "My Network/Banco de la Provincia de Buenos Aires/Analista Desarrollador Semi Sr",
          "My Network/Ministerio de Hacienda/Analista Dirección Nacional de Financiamiento con Organismos Regionales de Crédito",
          "My Network/Banco de la Provincia de Buenos Aires/Analista Económico Financiero",
          "My Network/Oracle/Analista Oracle Netsuite",
          "My Network/Ministerio de Hacienda/Analista Politica Fiscal",
          "My Network/Banco Central de la República Argentina/Analista Principal de Investigaciones Económicas",
          "My Network/INDEC Argentina/Analista Técnico",
          "My Network/Ministerio de Economía/Analista de Política Fiscal",
          "My Network/Gobierno de la Ciudad de Buenos Aires/Analista de Presupuesto",
          "My Network/Gobierno de la Ciudad de Buenos Aires/Analista de Presupuesto Secretaria de Integración Social y Urbana",
          "My Network/Accenture/Analista de contabilidad",
          "My Network/Banco Galicia/Analista de contenidos",
          "My Network/Gobierno de la Ciudad de Buenos Aires/Analista de datos",
          "My Network/Ministerio de Producción y Trabajo de la Nación/Analista de datos",
          "My Network/Ministerio de Producción y Trabajo de la Nación/Analista de gestión",
          "My Network/Accenture/Analista de marketing y ventas en Accenture",
          "My Network/BBVA en Argentina/Analista de riesgos financieros",
          "My Network/Ualá/Analista de validación",
          "My Network/Oracle/Analista funcional de  Netsuite - Oracle",
          "My Network/Gobierno de la Provincia de Buenos Aires/Analista superior de datos",
          "My Network/Ministerio de Hacienda/Analista. Dirección de Análisis del Sector Externo",
          "My Network/INDEC Argentina/Analysis of data and investigation in the Directorate of the Permanent Household Survey (EPH)",
          "My Network/Gobierno de la Ciudad de Buenos Aires/Asesor",
          "My Network/Ministerio de Hacienda/Asesor",
          "My Network/Ministerio del Interior, Obras Públicas y Vivienda/Asesor",
          "My Network/AFIP/Asesor Mayor",
          "My Network/MINISTERIO DE INFRAESTRUCTURA VIVIENDA Y SERVICIOS PUBLICOS/Asesor Técnico - Redeterminación de Precios de Contratos de Obra Pública",
          "My Network/INDEC Argentina/Asesora en Dirección Nacional de Cuentas Internacionales",
          "My Network/Banco Central de la República Argentina/Asistente de análisis monetario",
          "My Network/PwC Argentina/Associate 2",
          "My Network/Mercado Libre/Atención al cliente",
          "My Network/invertirOnline.com/Atención al cliente",
          "My Network/Facultad de Ciencias Económicas UNLP/Auditora externa",
          "My Network/Oracle/Autonomous Database Sales Representative - Enterprise Accounts ",
          "My Network/Grupo Randazzo/Auxiliar administrativo",
          "My Network/Facultad de Ciencias Económicas UNLP/Ayudante Alumno ad-honorem",
          "My Network/Universidad Nacional de La Plata/Ayudante Diplomado en Economía y Regulación de los Servicios Públicos",
          "My Network/Universidad Nacional de La Plata/Ayudante adscripto de la cátedra de Matemática I",
          "My Network/IT Convergence/B2B Sales",
          "My Network/Telefónica/BI analytics analyst ",
          "My Network/Telefónica/Big Data Analyst - Big Data & Advanced Analytics",
          "My Network/Ualá/Business Analytics Manager",
          "My Network/Oracle/Business Development Consultant",
          "My Network/Accenture/Business Intelligence Analyst",
          "My Network/Oracle/Business Transformation Sales Account Manager",
          "My Network/Oracle/CX Cloud Consultant",
          "My Network/Oracle/CX Consultant / Analista Funcional",
          "My Network/Accenture/Client Financial Management Analyst",
          "My Network/Accenture/Client Financial Management Specialist",
          "My Network/Accenture Argentina/Client Financial Mgmt Analyst",
          "My Network/Universidad Nacional de La Plata/Community Manager",
          "My Network/NetSuite/Consultant ERP Cloud",
          "My Network/Oracle/Consultant Middleware",
          "My Network/Oracle/Consultant Oracle Netsuite",
          "My Network/Oracle/Consulting Delivery Director",
          "My Network/Oracle/Consulting Staff Principal",
          "My Network/Oracle/Consultor EPM",
          "My Network/NetSuite/Consultor ERP",
          "My Network/Gobierno de la Ciudad de Buenos Aires/Consultor Externo de Evaluación de Gasto",
          "My Network/Oracle/Consultor Funcional ERP Netsuite",
          "My Network/Oracle/Consultor Funcional de Oracle ERP Cloud",
          "My Network/Tecnosoftware/Consultor Netsuite en Oracle Argentina",
          "My Network/Ministerio de Producción de la Nación/Consultor Secretaria de Industria",
          "My Network/KPMG Argentina/Consultor de precios de transferencia Jr",
          "My Network/Oracle/Consultor de servicios financieros",
          "My Network/Oracle/Consultor funcional",
          "My Network/Oracle/Consultor funcional financiero de Oracle",
          "My Network/Comisión Económica para América Latina y el Caribe (CEPAL)/Consultor/a",
          "My Network/NetSuite/Consultor/a",
          "My Network/Oracle/Consultor/a",
          "My Network/Oracle/Consultora Funcional en el Area de finanzas para ERP",
          "My Network/Autónomo/Consultora Sr. en Energía",
          "My Network/Oracle/Consultora funcional en el área de finanzas para ERP",
          "My Network/Gobierno de la Ciudad de Buenos Aires/Coordinación de Seguimiento de Proyectos Urbanos - DGPLUR - SECDU - JdGMGC - GCABA",
          "My Network/ANSES/Coordinador de Análisis Integral de la Seguridad Social",
          "My Network/Grupo Randazzo/Coordinador de selección de personal de RR. HH.",
          "My Network/INDEC Argentina/Coordinadora en Precios Mayoristas",
          "My Network/Accenture/Corporate Function Finance Associate",
          "My Network/Oracle/Customer experience consultant",
          "My Network/INDEC Argentina/Data Analyst",
          "My Network/PwC Argentina/Data Analyst - Actuarial Risk",
          "My Network/Ualá/Data Integration Lead",
          "My Network/Baufest/Data Practice Head - Americas",
          "My Network/Ualá/Data Research Analyst",
          "My Network/Ualá/Data Science & Research",
          "My Network/Ualá/Data Science & Research Leader",
          "My Network/Accenture/Data Science Manager @ Accenture Applied Intelligence",
          "My Network/Mercado Libre/Data Scientist",
          "My Network/Santander Argentina/Data Scientist",
          "My Network/Ualá/Data Scientist",
          "My Network/Banco de la Provincia de Buenos Aires/Data Scientist en Customer Experience",
          "My Network/Accenture/Data Specialist",
          "My Network/Universidad Torcuato Di Tella/Dean, School of Government",
          "My Network/Invecq Consulting SA/Director",
          "My Network/ANSES/Director Ejecutivo de ANSES",
          "My Network/Gobierno de la Ciudad de Buenos Aires/Director General de Coordinación de Gestión",
          "My Network/ANSES/Directora General de Proyectos de Niñez, Adolescencia, Juventud y Género.",
          "My Network/Ministerio de Hacienda/Directora Nacional Economía y Género",
          "My Network/Ministerio de Economía/Directora de Proyecciones y Estadísticas Presupuestarias",
          "My Network/Universidad de Buenos Aires/Docente",
          "My Network/Universidad Nacional de La Plata/Docente ",
          "My Network/Oracle/EPM Principal consultant",
          "My Network/Oracle/EPM Senior Consultant",
          "My Network/Oracle/ERP Financial Functional Consultant",
          "My Network/Oracle/ERP Staff Consultant",
          "My Network/Ministerio de Producción y Trabajo de la Nación/Economic Advisor to the Foreing Trade Secretary",
          "My Network/FIEL/Economista",
          "My Network/Ministerio de Desarrollo Productivo de la Nación/Economista",
          "My Network/The World Bank/Economista",
          "My Network/FIEL/Economista Jefe",
          "My Network/invertirOnline.com/Ejecutivo Comercial",
          "My Network/BBVA en Argentina/Ejecutivo Premium Direct",
          "My Network/Banco Macro/Ejecutivo de clientes",
          "My Network/MINISTERIO DE INFRAESTRUCTURA VIVIENDA Y SERVICIOS PUBLICOS/Empleado gubernamental",
          "My Network/Autónomo/Emprendedor independiente",
          "My Network/EY/Engineering Team Lead - Artificial Intelligence Client Technology",
          "My Network/Oracle/Facilities Manager",
          "My Network/Accenture/Finance Analyst",
          "My Network/Banco de la Provincia de Buenos Aires/Financial & Economic Analyst",
          "My Network/Accenture Argentina/Financial Services Research Associate Manager",
          "My Network/Ualá/Financial Systems Manager",
          "My Network/Ministerio de Producción de la Nación/Formadora en Academia Argentina Emprende",
          "My Network/NetSuite/Founder and EVP of Oracle NetSuite",
          "My Network/NetSuite/GM of NetSuite Uruguay, and Senior Director of Ecommerce, NetSuite",
          "My Network/Gobierno de la Ciudad de Buenos Aires/Gerente Operativo de Recursos Humanos",
          "My Network/Banco de la Nación Argentina/Gerente de Auditoría de Procesos Centrales",
          "My Network/Santander Argentina/Gerente de Gestión Integral de Riesgos (ERM)",
          "My Network/YPF SA/Gestión en control de producción",
          "My Network/Accenture/Global Corporate Function Finance Associate",
          "My Network/Accenture/Head of Economic and Data Science Research, Accenture Research",
          "My Network/KPMG Argentina/Head of People & Change | Digital & Agile Transformation | Advisory | Consulting",
          "My Network/Banco Central de la República Argentina/Inspector Senior de Riesgo Crediticio",
          "My Network/Universidad Nacional de General Sarmiento/Investigador",
          "My Network/Universidad Nacional de La Plata/Investigador",
          "My Network/Universidad de Buenos Aires/Investigador",
          "My Network/Universidad Nacional de General Sarmiento/Investigador-Docente",
          "My Network/Universidad Nacional de General Sarmiento/Investigadora",
          "My Network/Comisión Económica para América Latina y el Caribe (CEPAL)/Investigadora asistente",
          "My Network/INDEC Argentina/Investigadora en la Cuenta Satélite de Cultura",
          "My Network/Ualá/Jefe de administración",
          "My Network/Oracle/Junior Business Consultant",
          "My Network/Banco Macro/Lider de Equipos Estimación de Perdidas Crediticias",
          "My Network/Hospital Italiano de Buenos Aires/Machine Learning Engineer (Information Retrieval & Natural Language Processing)",
          "My Network/Universidad Nacional de La Plata/Macroeconomics I ",
          "My Network/Oracle/Managing Director",
          "My Network/Oracle/Managing Principal Consultant",
          "My Network/Ministerio de Desarrollo Productivo de la Nación/Ministro",
          "My Network/Oracle/NetSuite Consultant",
          "My Network/Oracle/NetSuite Functional Consultant  - LAD",
          "My Network/Oracle/NetSuite Functional Consultant Jr - LAD",
          "My Network/Oracle/NetSuite PS Country Leader Argentina",
          "My Network/Oracle/NetSuite Technical Consultant",
          "My Network/Oracle/Netsuite Cloud - Latin America Delivery Lead",
          "My Network/Oracle/Netsuite Consultant",
          "My Network/Oracle/Netsuite Consulting Practice Manager for Latin America",
          "My Network/YPF SA/Nuevo Profesional - Optimización y control",
          "My Network/Oracle/Oracle Gerente de Proyecto | Líder de Implementación | Consultor Sr Oracle Ebs y  Cloud",
          "My Network/Tecnosoftware/Oracle NetSuite Consultant",
          "My Network/AFIP/PROFESIONAL CONTABLE",
          "My Network/Universidad Nacional de La Plata/Posgrados Económicas",
          "My Network/Invecq Consulting SA/Presidente",
          "My Network/Oracle/Principal Consultant Oracle NetSuite",
          "My Network/NetSuite/Product Manager",
          "My Network/Universidad de Buenos Aires/Profesor - Especialización en Mercado de Capitales (UBA-BYMA)",
          "My Network/Universidad Nacional de La Plata/Profesor Adjunto Finanzas Públicas I",
          "My Network/Universidad del CEMA/Profesor Asociado",
          "My Network/Universidad del CEMA/Profesor econometria",
          "My Network/Universidad Torcuato Di Tella/Profesor visitante",
          "My Network/Oracle/Programador sénior",
          "My Network/IT Convergence/Recruitment & Sales Manager",
          "My Network/The World Bank/Research Analyst",
          "My Network/Gobierno de la Ciudad de Buenos Aires/Secretario de Ambiente",
          "My Network/Oracle/Senior Implementation Consultant",
          "My Network/Oracle/Senior Vice President Applications",
          "My Network/YPF SA/Soporte Técnico Presencial",
          "My Network/Ministerio de Producción de la Nación/Soporte Técnico, Administrativo y Operativo de la Unidad técnica del CONSEJO DE LA PRODUCCIÓN",
          "My Network/ARBA/Subdirector Ejecutivo de Recaudación y Catastro",
          "My Network/Banco Central de la República Argentina/Subgerente de modelos macro-financieros",
          "My Network/Gobierno de la Provincia de Buenos Aires/Subsecretaría de Coordinacion de la Gestion ",
          "My Network/Mercado Libre/Supervisor de Prevención de Fraude",
          "My Network/Ualá/Talent Acquisition Specialist",
          "My Network/EY/Tax analyst",
          "My Network/NetSuite/Technical Consultant",
          "My Network/Baufest/Technical Expert",
          "My Network/ARBA/Tecnico impositivo",
          "My Network/Universidad Nacional de La Plata/Trabajo de campo",
          "My Network/EY/Transfer Pricing Manager",
          "My Network/Banco de la Nación Argentina/Vicepresidente",
          "My Network/Universidad de Buenos Aires/Webmaster",
          "My Network/Grupo Randazzo/administrativa",
          "My Network/Oracle/consultor cx",
          "My Network/YPF SA/operador de campo",
          "My Network/AFIP",
          "My Network/ANSES",
          "My Network/ARBA",
          "My Network/Accenture",
          "My Network/Accenture Argentina",
          "My Network/Autónomo",
          "My Network/BBVA en Argentina",
          "My Network/Banco Central de la República Argentina",
          "My Network/Banco Galicia",
          "My Network/Banco Macro",
          "My Network/Banco de la Nación Argentina",
          "My Network/Banco de la Provincia de Buenos Aires",
          "My Network/Baufest",
          "My Network/Comisión Económica para América Latina y el Caribe (CEPAL)",
          "My Network/EY",
          "My Network/FIEL",
          "My Network/Facultad de Ciencias Económicas UNLP",
          "My Network/Gobierno de la Ciudad de Buenos Aires",
          "My Network/Gobierno de la Provincia de Buenos Aires",
          "My Network/Grupo Randazzo",
          "My Network/Hospital Italiano de Buenos Aires",
          "My Network/INDEC Argentina",
          "My Network/IT Convergence",
          "My Network/Invecq Consulting SA",
          "My Network/KPMG Argentina",
          "My Network/MINISTERIO DE INFRAESTRUCTURA VIVIENDA Y SERVICIOS PUBLICOS",
          "My Network/Mercado Libre",
          "My Network/Ministerio de Desarrollo Productivo de la Nación",
          "My Network/Ministerio de Economía",
          "My Network/Ministerio de Hacienda",
          "My Network/Ministerio de Producción de la Nación",
          "My Network/Ministerio de Producción y Trabajo de la Nación",
          "My Network/Ministerio del Interior, Obras Públicas y Vivienda",
          "My Network/NetSuite",
          "My Network/Oracle",
          "My Network/PwC Argentina",
          "My Network/Santander Argentina",
          "My Network/Tecnosoftware",
          "My Network/Telefónica",
          "My Network/The World Bank",
          "My Network/Ualá",
          "My Network/Universidad Nacional de General Sarmiento",
          "My Network/Universidad Nacional de La Plata",
          "My Network/Universidad Torcuato Di Tella",
          "My Network/Universidad de Buenos Aires",
          "My Network/Universidad del CEMA",
          "My Network/YPF SA",
          "My Network/invertirOnline.com",
          "My Network"
         ],
         "labels": [
          "Account Manager",
          "Admisiones y Desarrollo Institucional",
          "Adscripto Graduado",
          "Analista",
          "Analista",
          "Analista",
          "Analista",
          "Analista BI",
          "Analista Desarrollador Semi Sr",
          "Analista Dirección Nacional de Financiamiento con Organismos Regionales de Crédito",
          "Analista Económico Financiero",
          "Analista Oracle Netsuite",
          "Analista Politica Fiscal",
          "Analista Principal de Investigaciones Económicas",
          "Analista Técnico",
          "Analista de Política Fiscal",
          "Analista de Presupuesto",
          "Analista de Presupuesto Secretaria de Integración Social y Urbana",
          "Analista de contabilidad",
          "Analista de contenidos",
          "Analista de datos",
          "Analista de datos",
          "Analista de gestión",
          "Analista de marketing y ventas en Accenture",
          "Analista de riesgos financieros",
          "Analista de validación",
          "Analista funcional de  Netsuite - Oracle",
          "Analista superior de datos",
          "Analista. Dirección de Análisis del Sector Externo",
          "Analysis of data and investigation in the Directorate of the Permanent Household Survey (EPH)",
          "Asesor",
          "Asesor",
          "Asesor",
          "Asesor Mayor",
          "Asesor Técnico - Redeterminación de Precios de Contratos de Obra Pública",
          "Asesora en Dirección Nacional de Cuentas Internacionales",
          "Asistente de análisis monetario",
          "Associate 2",
          "Atención al cliente",
          "Atención al cliente",
          "Auditora externa",
          "Autonomous Database Sales Representative - Enterprise Accounts ",
          "Auxiliar administrativo",
          "Ayudante Alumno ad-honorem",
          "Ayudante Diplomado en Economía y Regulación de los Servicios Públicos",
          "Ayudante adscripto de la cátedra de Matemática I",
          "B2B Sales",
          "BI analytics analyst ",
          "Big Data Analyst - Big Data & Advanced Analytics",
          "Business Analytics Manager",
          "Business Development Consultant",
          "Business Intelligence Analyst",
          "Business Transformation Sales Account Manager",
          "CX Cloud Consultant",
          "CX Consultant / Analista Funcional",
          "Client Financial Management Analyst",
          "Client Financial Management Specialist",
          "Client Financial Mgmt Analyst",
          "Community Manager",
          "Consultant ERP Cloud",
          "Consultant Middleware",
          "Consultant Oracle Netsuite",
          "Consulting Delivery Director",
          "Consulting Staff Principal",
          "Consultor EPM",
          "Consultor ERP",
          "Consultor Externo de Evaluación de Gasto",
          "Consultor Funcional ERP Netsuite",
          "Consultor Funcional de Oracle ERP Cloud",
          "Consultor Netsuite en Oracle Argentina",
          "Consultor Secretaria de Industria",
          "Consultor de precios de transferencia Jr",
          "Consultor de servicios financieros",
          "Consultor funcional",
          "Consultor funcional financiero de Oracle",
          "Consultor/a",
          "Consultor/a",
          "Consultor/a",
          "Consultora Funcional en el Area de finanzas para ERP",
          "Consultora Sr. en Energía",
          "Consultora funcional en el área de finanzas para ERP",
          "Coordinación de Seguimiento de Proyectos Urbanos - DGPLUR - SECDU - JdGMGC - GCABA",
          "Coordinador de Análisis Integral de la Seguridad Social",
          "Coordinador de selección de personal de RR. HH.",
          "Coordinadora en Precios Mayoristas",
          "Corporate Function Finance Associate",
          "Customer experience consultant",
          "Data Analyst",
          "Data Analyst - Actuarial Risk",
          "Data Integration Lead",
          "Data Practice Head - Americas",
          "Data Research Analyst",
          "Data Science & Research",
          "Data Science & Research Leader",
          "Data Science Manager @ Accenture Applied Intelligence",
          "Data Scientist",
          "Data Scientist",
          "Data Scientist",
          "Data Scientist en Customer Experience",
          "Data Specialist",
          "Dean, School of Government",
          "Director",
          "Director Ejecutivo de ANSES",
          "Director General de Coordinación de Gestión",
          "Directora General de Proyectos de Niñez, Adolescencia, Juventud y Género.",
          "Directora Nacional Economía y Género",
          "Directora de Proyecciones y Estadísticas Presupuestarias",
          "Docente",
          "Docente ",
          "EPM Principal consultant",
          "EPM Senior Consultant",
          "ERP Financial Functional Consultant",
          "ERP Staff Consultant",
          "Economic Advisor to the Foreing Trade Secretary",
          "Economista",
          "Economista",
          "Economista",
          "Economista Jefe",
          "Ejecutivo Comercial",
          "Ejecutivo Premium Direct",
          "Ejecutivo de clientes",
          "Empleado gubernamental",
          "Emprendedor independiente",
          "Engineering Team Lead - Artificial Intelligence Client Technology",
          "Facilities Manager",
          "Finance Analyst",
          "Financial & Economic Analyst",
          "Financial Services Research Associate Manager",
          "Financial Systems Manager",
          "Formadora en Academia Argentina Emprende",
          "Founder and EVP of Oracle NetSuite",
          "GM of NetSuite Uruguay, and Senior Director of Ecommerce, NetSuite",
          "Gerente Operativo de Recursos Humanos",
          "Gerente de Auditoría de Procesos Centrales",
          "Gerente de Gestión Integral de Riesgos (ERM)",
          "Gestión en control de producción",
          "Global Corporate Function Finance Associate",
          "Head of Economic and Data Science Research, Accenture Research",
          "Head of People & Change | Digital & Agile Transformation | Advisory | Consulting",
          "Inspector Senior de Riesgo Crediticio",
          "Investigador",
          "Investigador",
          "Investigador",
          "Investigador-Docente",
          "Investigadora",
          "Investigadora asistente",
          "Investigadora en la Cuenta Satélite de Cultura",
          "Jefe de administración",
          "Junior Business Consultant",
          "Lider de Equipos Estimación de Perdidas Crediticias",
          "Machine Learning Engineer (Information Retrieval & Natural Language Processing)",
          "Macroeconomics I ",
          "Managing Director",
          "Managing Principal Consultant",
          "Ministro",
          "NetSuite Consultant",
          "NetSuite Functional Consultant  - LAD",
          "NetSuite Functional Consultant Jr - LAD",
          "NetSuite PS Country Leader Argentina",
          "NetSuite Technical Consultant",
          "Netsuite Cloud - Latin America Delivery Lead",
          "Netsuite Consultant",
          "Netsuite Consulting Practice Manager for Latin America",
          "Nuevo Profesional - Optimización y control",
          "Oracle Gerente de Proyecto | Líder de Implementación | Consultor Sr Oracle Ebs y  Cloud",
          "Oracle NetSuite Consultant",
          "PROFESIONAL CONTABLE",
          "Posgrados Económicas",
          "Presidente",
          "Principal Consultant Oracle NetSuite",
          "Product Manager",
          "Profesor - Especialización en Mercado de Capitales (UBA-BYMA)",
          "Profesor Adjunto Finanzas Públicas I",
          "Profesor Asociado",
          "Profesor econometria",
          "Profesor visitante",
          "Programador sénior",
          "Recruitment & Sales Manager",
          "Research Analyst",
          "Secretario de Ambiente",
          "Senior Implementation Consultant",
          "Senior Vice President Applications",
          "Soporte Técnico Presencial",
          "Soporte Técnico, Administrativo y Operativo de la Unidad técnica del CONSEJO DE LA PRODUCCIÓN",
          "Subdirector Ejecutivo de Recaudación y Catastro",
          "Subgerente de modelos macro-financieros",
          "Subsecretaría de Coordinacion de la Gestion ",
          "Supervisor de Prevención de Fraude",
          "Talent Acquisition Specialist",
          "Tax analyst",
          "Technical Consultant",
          "Technical Expert",
          "Tecnico impositivo",
          "Trabajo de campo",
          "Transfer Pricing Manager",
          "Vicepresidente",
          "Webmaster",
          "administrativa",
          "consultor cx",
          "operador de campo",
          "AFIP",
          "ANSES",
          "ARBA",
          "Accenture",
          "Accenture Argentina",
          "Autónomo",
          "BBVA en Argentina",
          "Banco Central de la República Argentina",
          "Banco Galicia",
          "Banco Macro",
          "Banco de la Nación Argentina",
          "Banco de la Provincia de Buenos Aires",
          "Baufest",
          "Comisión Económica para América Latina y el Caribe (CEPAL)",
          "EY",
          "FIEL",
          "Facultad de Ciencias Económicas UNLP",
          "Gobierno de la Ciudad de Buenos Aires",
          "Gobierno de la Provincia de Buenos Aires",
          "Grupo Randazzo",
          "Hospital Italiano de Buenos Aires",
          "INDEC Argentina",
          "IT Convergence",
          "Invecq Consulting SA",
          "KPMG Argentina",
          "MINISTERIO DE INFRAESTRUCTURA VIVIENDA Y SERVICIOS PUBLICOS",
          "Mercado Libre",
          "Ministerio de Desarrollo Productivo de la Nación",
          "Ministerio de Economía",
          "Ministerio de Hacienda",
          "Ministerio de Producción de la Nación",
          "Ministerio de Producción y Trabajo de la Nación",
          "Ministerio del Interior, Obras Públicas y Vivienda",
          "NetSuite",
          "Oracle",
          "PwC Argentina",
          "Santander Argentina",
          "Tecnosoftware",
          "Telefónica",
          "The World Bank",
          "Ualá",
          "Universidad Nacional de General Sarmiento",
          "Universidad Nacional de La Plata",
          "Universidad Torcuato Di Tella",
          "Universidad de Buenos Aires",
          "Universidad del CEMA",
          "YPF SA",
          "invertirOnline.com",
          "My Network"
         ],
         "name": "",
         "parents": [
          "My Network/Baufest",
          "My Network/Universidad del CEMA",
          "My Network/Facultad de Ciencias Económicas UNLP",
          "My Network/AFIP",
          "My Network/Banco Galicia",
          "My Network/Hospital Italiano de Buenos Aires",
          "My Network/Ministerio del Interior, Obras Públicas y Vivienda",
          "My Network/Ualá",
          "My Network/Banco de la Provincia de Buenos Aires",
          "My Network/Ministerio de Hacienda",
          "My Network/Banco de la Provincia de Buenos Aires",
          "My Network/Oracle",
          "My Network/Ministerio de Hacienda",
          "My Network/Banco Central de la República Argentina",
          "My Network/INDEC Argentina",
          "My Network/Ministerio de Economía",
          "My Network/Gobierno de la Ciudad de Buenos Aires",
          "My Network/Gobierno de la Ciudad de Buenos Aires",
          "My Network/Accenture",
          "My Network/Banco Galicia",
          "My Network/Gobierno de la Ciudad de Buenos Aires",
          "My Network/Ministerio de Producción y Trabajo de la Nación",
          "My Network/Ministerio de Producción y Trabajo de la Nación",
          "My Network/Accenture",
          "My Network/BBVA en Argentina",
          "My Network/Ualá",
          "My Network/Oracle",
          "My Network/Gobierno de la Provincia de Buenos Aires",
          "My Network/Ministerio de Hacienda",
          "My Network/INDEC Argentina",
          "My Network/Gobierno de la Ciudad de Buenos Aires",
          "My Network/Ministerio de Hacienda",
          "My Network/Ministerio del Interior, Obras Públicas y Vivienda",
          "My Network/AFIP",
          "My Network/MINISTERIO DE INFRAESTRUCTURA VIVIENDA Y SERVICIOS PUBLICOS",
          "My Network/INDEC Argentina",
          "My Network/Banco Central de la República Argentina",
          "My Network/PwC Argentina",
          "My Network/Mercado Libre",
          "My Network/invertirOnline.com",
          "My Network/Facultad de Ciencias Económicas UNLP",
          "My Network/Oracle",
          "My Network/Grupo Randazzo",
          "My Network/Facultad de Ciencias Económicas UNLP",
          "My Network/Universidad Nacional de La Plata",
          "My Network/Universidad Nacional de La Plata",
          "My Network/IT Convergence",
          "My Network/Telefónica",
          "My Network/Telefónica",
          "My Network/Ualá",
          "My Network/Oracle",
          "My Network/Accenture",
          "My Network/Oracle",
          "My Network/Oracle",
          "My Network/Oracle",
          "My Network/Accenture",
          "My Network/Accenture",
          "My Network/Accenture Argentina",
          "My Network/Universidad Nacional de La Plata",
          "My Network/NetSuite",
          "My Network/Oracle",
          "My Network/Oracle",
          "My Network/Oracle",
          "My Network/Oracle",
          "My Network/Oracle",
          "My Network/NetSuite",
          "My Network/Gobierno de la Ciudad de Buenos Aires",
          "My Network/Oracle",
          "My Network/Oracle",
          "My Network/Tecnosoftware",
          "My Network/Ministerio de Producción de la Nación",
          "My Network/KPMG Argentina",
          "My Network/Oracle",
          "My Network/Oracle",
          "My Network/Oracle",
          "My Network/Comisión Económica para América Latina y el Caribe (CEPAL)",
          "My Network/NetSuite",
          "My Network/Oracle",
          "My Network/Oracle",
          "My Network/Autónomo",
          "My Network/Oracle",
          "My Network/Gobierno de la Ciudad de Buenos Aires",
          "My Network/ANSES",
          "My Network/Grupo Randazzo",
          "My Network/INDEC Argentina",
          "My Network/Accenture",
          "My Network/Oracle",
          "My Network/INDEC Argentina",
          "My Network/PwC Argentina",
          "My Network/Ualá",
          "My Network/Baufest",
          "My Network/Ualá",
          "My Network/Ualá",
          "My Network/Ualá",
          "My Network/Accenture",
          "My Network/Mercado Libre",
          "My Network/Santander Argentina",
          "My Network/Ualá",
          "My Network/Banco de la Provincia de Buenos Aires",
          "My Network/Accenture",
          "My Network/Universidad Torcuato Di Tella",
          "My Network/Invecq Consulting SA",
          "My Network/ANSES",
          "My Network/Gobierno de la Ciudad de Buenos Aires",
          "My Network/ANSES",
          "My Network/Ministerio de Hacienda",
          "My Network/Ministerio de Economía",
          "My Network/Universidad de Buenos Aires",
          "My Network/Universidad Nacional de La Plata",
          "My Network/Oracle",
          "My Network/Oracle",
          "My Network/Oracle",
          "My Network/Oracle",
          "My Network/Ministerio de Producción y Trabajo de la Nación",
          "My Network/FIEL",
          "My Network/Ministerio de Desarrollo Productivo de la Nación",
          "My Network/The World Bank",
          "My Network/FIEL",
          "My Network/invertirOnline.com",
          "My Network/BBVA en Argentina",
          "My Network/Banco Macro",
          "My Network/MINISTERIO DE INFRAESTRUCTURA VIVIENDA Y SERVICIOS PUBLICOS",
          "My Network/Autónomo",
          "My Network/EY",
          "My Network/Oracle",
          "My Network/Accenture",
          "My Network/Banco de la Provincia de Buenos Aires",
          "My Network/Accenture Argentina",
          "My Network/Ualá",
          "My Network/Ministerio de Producción de la Nación",
          "My Network/NetSuite",
          "My Network/NetSuite",
          "My Network/Gobierno de la Ciudad de Buenos Aires",
          "My Network/Banco de la Nación Argentina",
          "My Network/Santander Argentina",
          "My Network/YPF SA",
          "My Network/Accenture",
          "My Network/Accenture",
          "My Network/KPMG Argentina",
          "My Network/Banco Central de la República Argentina",
          "My Network/Universidad Nacional de General Sarmiento",
          "My Network/Universidad Nacional de La Plata",
          "My Network/Universidad de Buenos Aires",
          "My Network/Universidad Nacional de General Sarmiento",
          "My Network/Universidad Nacional de General Sarmiento",
          "My Network/Comisión Económica para América Latina y el Caribe (CEPAL)",
          "My Network/INDEC Argentina",
          "My Network/Ualá",
          "My Network/Oracle",
          "My Network/Banco Macro",
          "My Network/Hospital Italiano de Buenos Aires",
          "My Network/Universidad Nacional de La Plata",
          "My Network/Oracle",
          "My Network/Oracle",
          "My Network/Ministerio de Desarrollo Productivo de la Nación",
          "My Network/Oracle",
          "My Network/Oracle",
          "My Network/Oracle",
          "My Network/Oracle",
          "My Network/Oracle",
          "My Network/Oracle",
          "My Network/Oracle",
          "My Network/Oracle",
          "My Network/YPF SA",
          "My Network/Oracle",
          "My Network/Tecnosoftware",
          "My Network/AFIP",
          "My Network/Universidad Nacional de La Plata",
          "My Network/Invecq Consulting SA",
          "My Network/Oracle",
          "My Network/NetSuite",
          "My Network/Universidad de Buenos Aires",
          "My Network/Universidad Nacional de La Plata",
          "My Network/Universidad del CEMA",
          "My Network/Universidad del CEMA",
          "My Network/Universidad Torcuato Di Tella",
          "My Network/Oracle",
          "My Network/IT Convergence",
          "My Network/The World Bank",
          "My Network/Gobierno de la Ciudad de Buenos Aires",
          "My Network/Oracle",
          "My Network/Oracle",
          "My Network/YPF SA",
          "My Network/Ministerio de Producción de la Nación",
          "My Network/ARBA",
          "My Network/Banco Central de la República Argentina",
          "My Network/Gobierno de la Provincia de Buenos Aires",
          "My Network/Mercado Libre",
          "My Network/Ualá",
          "My Network/EY",
          "My Network/NetSuite",
          "My Network/Baufest",
          "My Network/ARBA",
          "My Network/Universidad Nacional de La Plata",
          "My Network/EY",
          "My Network/Banco de la Nación Argentina",
          "My Network/Universidad de Buenos Aires",
          "My Network/Grupo Randazzo",
          "My Network/Oracle",
          "My Network/YPF SA",
          "My Network",
          "My Network",
          "My Network",
          "My Network",
          "My Network",
          "My Network",
          "My Network",
          "My Network",
          "My Network",
          "My Network",
          "My Network",
          "My Network",
          "My Network",
          "My Network",
          "My Network",
          "My Network",
          "My Network",
          "My Network",
          "My Network",
          "My Network",
          "My Network",
          "My Network",
          "My Network",
          "My Network",
          "My Network",
          "My Network",
          "My Network",
          "My Network",
          "My Network",
          "My Network",
          "My Network",
          "My Network",
          "My Network",
          "My Network",
          "My Network",
          "My Network",
          "My Network",
          "My Network",
          "My Network",
          "My Network",
          "My Network",
          "My Network",
          "My Network",
          "My Network",
          "My Network",
          "My Network",
          "My Network",
          "My Network",
          ""
         ],
         "type": "treemap",
         "values": [
          1,
          1,
          1,
          1,
          1,
          1,
          1,
          3,
          1,
          1,
          1,
          1,
          1,
          1,
          1,
          1,
          1,
          1,
          1,
          1,
          2,
          1,
          1,
          1,
          1,
          1,
          1,
          1,
          1,
          1,
          1,
          1,
          1,
          1,
          1,
          1,
          1,
          1,
          1,
          1,
          1,
          1,
          1,
          1,
          1,
          1,
          1,
          1,
          1,
          1,
          1,
          1,
          1,
          1,
          1,
          3,
          1,
          1,
          1,
          1,
          1,
          1,
          1,
          1,
          1,
          1,
          1,
          1,
          1,
          1,
          1,
          1,
          1,
          1,
          1,
          1,
          1,
          3,
          1,
          1,
          1,
          1,
          1,
          1,
          1,
          1,
          1,
          1,
          1,
          1,
          1,
          1,
          1,
          1,
          1,
          1,
          1,
          1,
          1,
          1,
          1,
          1,
          1,
          1,
          1,
          1,
          1,
          1,
          1,
          1,
          1,
          1,
          1,
          1,
          1,
          1,
          1,
          1,
          1,
          1,
          1,
          1,
          1,
          1,
          1,
          1,
          1,
          1,
          1,
          1,
          1,
          1,
          1,
          1,
          1,
          1,
          1,
          1,
          1,
          1,
          1,
          1,
          1,
          1,
          1,
          1,
          1,
          1,
          1,
          1,
          1,
          1,
          1,
          1,
          1,
          1,
          1,
          1,
          1,
          1,
          1,
          1,
          1,
          1,
          1,
          1,
          1,
          1,
          1,
          1,
          1,
          1,
          1,
          1,
          1,
          1,
          1,
          1,
          1,
          1,
          1,
          1,
          1,
          1,
          1,
          1,
          1,
          1,
          4,
          1,
          1,
          1,
          1,
          1,
          1,
          1,
          1,
          1,
          1,
          1,
          3,
          3,
          2,
          13,
          2,
          2,
          2,
          4,
          2,
          2,
          2,
          4,
          3,
          2,
          3,
          2,
          3,
          10,
          2,
          3,
          2,
          6,
          2,
          2,
          2,
          2,
          3,
          2,
          2,
          5,
          3,
          3,
          2,
          7,
          45,
          2,
          2,
          2,
          2,
          2,
          16,
          3,
          9,
          2,
          4,
          3,
          4,
          2,
          210
         ]
        }
       ],
       "layout": {
        "height": 1000,
        "legend": {
         "tracegroupgap": 0
        },
        "margin": {
         "t": 60
        },
        "template": {
         "data": {
          "bar": [
           {
            "error_x": {
             "color": "#2a3f5f"
            },
            "error_y": {
             "color": "#2a3f5f"
            },
            "marker": {
             "line": {
              "color": "#E5ECF6",
              "width": 0.5
             }
            },
            "type": "bar"
           }
          ],
          "barpolar": [
           {
            "marker": {
             "line": {
              "color": "#E5ECF6",
              "width": 0.5
             }
            },
            "type": "barpolar"
           }
          ],
          "carpet": [
           {
            "aaxis": {
             "endlinecolor": "#2a3f5f",
             "gridcolor": "white",
             "linecolor": "white",
             "minorgridcolor": "white",
             "startlinecolor": "#2a3f5f"
            },
            "baxis": {
             "endlinecolor": "#2a3f5f",
             "gridcolor": "white",
             "linecolor": "white",
             "minorgridcolor": "white",
             "startlinecolor": "#2a3f5f"
            },
            "type": "carpet"
           }
          ],
          "choropleth": [
           {
            "colorbar": {
             "outlinewidth": 0,
             "ticks": ""
            },
            "type": "choropleth"
           }
          ],
          "contour": [
           {
            "colorbar": {
             "outlinewidth": 0,
             "ticks": ""
            },
            "colorscale": [
             [
              0,
              "#0d0887"
             ],
             [
              0.1111111111111111,
              "#46039f"
             ],
             [
              0.2222222222222222,
              "#7201a8"
             ],
             [
              0.3333333333333333,
              "#9c179e"
             ],
             [
              0.4444444444444444,
              "#bd3786"
             ],
             [
              0.5555555555555556,
              "#d8576b"
             ],
             [
              0.6666666666666666,
              "#ed7953"
             ],
             [
              0.7777777777777778,
              "#fb9f3a"
             ],
             [
              0.8888888888888888,
              "#fdca26"
             ],
             [
              1,
              "#f0f921"
             ]
            ],
            "type": "contour"
           }
          ],
          "contourcarpet": [
           {
            "colorbar": {
             "outlinewidth": 0,
             "ticks": ""
            },
            "type": "contourcarpet"
           }
          ],
          "heatmap": [
           {
            "colorbar": {
             "outlinewidth": 0,
             "ticks": ""
            },
            "colorscale": [
             [
              0,
              "#0d0887"
             ],
             [
              0.1111111111111111,
              "#46039f"
             ],
             [
              0.2222222222222222,
              "#7201a8"
             ],
             [
              0.3333333333333333,
              "#9c179e"
             ],
             [
              0.4444444444444444,
              "#bd3786"
             ],
             [
              0.5555555555555556,
              "#d8576b"
             ],
             [
              0.6666666666666666,
              "#ed7953"
             ],
             [
              0.7777777777777778,
              "#fb9f3a"
             ],
             [
              0.8888888888888888,
              "#fdca26"
             ],
             [
              1,
              "#f0f921"
             ]
            ],
            "type": "heatmap"
           }
          ],
          "heatmapgl": [
           {
            "colorbar": {
             "outlinewidth": 0,
             "ticks": ""
            },
            "colorscale": [
             [
              0,
              "#0d0887"
             ],
             [
              0.1111111111111111,
              "#46039f"
             ],
             [
              0.2222222222222222,
              "#7201a8"
             ],
             [
              0.3333333333333333,
              "#9c179e"
             ],
             [
              0.4444444444444444,
              "#bd3786"
             ],
             [
              0.5555555555555556,
              "#d8576b"
             ],
             [
              0.6666666666666666,
              "#ed7953"
             ],
             [
              0.7777777777777778,
              "#fb9f3a"
             ],
             [
              0.8888888888888888,
              "#fdca26"
             ],
             [
              1,
              "#f0f921"
             ]
            ],
            "type": "heatmapgl"
           }
          ],
          "histogram": [
           {
            "marker": {
             "colorbar": {
              "outlinewidth": 0,
              "ticks": ""
             }
            },
            "type": "histogram"
           }
          ],
          "histogram2d": [
           {
            "colorbar": {
             "outlinewidth": 0,
             "ticks": ""
            },
            "colorscale": [
             [
              0,
              "#0d0887"
             ],
             [
              0.1111111111111111,
              "#46039f"
             ],
             [
              0.2222222222222222,
              "#7201a8"
             ],
             [
              0.3333333333333333,
              "#9c179e"
             ],
             [
              0.4444444444444444,
              "#bd3786"
             ],
             [
              0.5555555555555556,
              "#d8576b"
             ],
             [
              0.6666666666666666,
              "#ed7953"
             ],
             [
              0.7777777777777778,
              "#fb9f3a"
             ],
             [
              0.8888888888888888,
              "#fdca26"
             ],
             [
              1,
              "#f0f921"
             ]
            ],
            "type": "histogram2d"
           }
          ],
          "histogram2dcontour": [
           {
            "colorbar": {
             "outlinewidth": 0,
             "ticks": ""
            },
            "colorscale": [
             [
              0,
              "#0d0887"
             ],
             [
              0.1111111111111111,
              "#46039f"
             ],
             [
              0.2222222222222222,
              "#7201a8"
             ],
             [
              0.3333333333333333,
              "#9c179e"
             ],
             [
              0.4444444444444444,
              "#bd3786"
             ],
             [
              0.5555555555555556,
              "#d8576b"
             ],
             [
              0.6666666666666666,
              "#ed7953"
             ],
             [
              0.7777777777777778,
              "#fb9f3a"
             ],
             [
              0.8888888888888888,
              "#fdca26"
             ],
             [
              1,
              "#f0f921"
             ]
            ],
            "type": "histogram2dcontour"
           }
          ],
          "mesh3d": [
           {
            "colorbar": {
             "outlinewidth": 0,
             "ticks": ""
            },
            "type": "mesh3d"
           }
          ],
          "parcoords": [
           {
            "line": {
             "colorbar": {
              "outlinewidth": 0,
              "ticks": ""
             }
            },
            "type": "parcoords"
           }
          ],
          "pie": [
           {
            "automargin": true,
            "type": "pie"
           }
          ],
          "scatter": [
           {
            "marker": {
             "colorbar": {
              "outlinewidth": 0,
              "ticks": ""
             }
            },
            "type": "scatter"
           }
          ],
          "scatter3d": [
           {
            "line": {
             "colorbar": {
              "outlinewidth": 0,
              "ticks": ""
             }
            },
            "marker": {
             "colorbar": {
              "outlinewidth": 0,
              "ticks": ""
             }
            },
            "type": "scatter3d"
           }
          ],
          "scattercarpet": [
           {
            "marker": {
             "colorbar": {
              "outlinewidth": 0,
              "ticks": ""
             }
            },
            "type": "scattercarpet"
           }
          ],
          "scattergeo": [
           {
            "marker": {
             "colorbar": {
              "outlinewidth": 0,
              "ticks": ""
             }
            },
            "type": "scattergeo"
           }
          ],
          "scattergl": [
           {
            "marker": {
             "colorbar": {
              "outlinewidth": 0,
              "ticks": ""
             }
            },
            "type": "scattergl"
           }
          ],
          "scattermapbox": [
           {
            "marker": {
             "colorbar": {
              "outlinewidth": 0,
              "ticks": ""
             }
            },
            "type": "scattermapbox"
           }
          ],
          "scatterpolar": [
           {
            "marker": {
             "colorbar": {
              "outlinewidth": 0,
              "ticks": ""
             }
            },
            "type": "scatterpolar"
           }
          ],
          "scatterpolargl": [
           {
            "marker": {
             "colorbar": {
              "outlinewidth": 0,
              "ticks": ""
             }
            },
            "type": "scatterpolargl"
           }
          ],
          "scatterternary": [
           {
            "marker": {
             "colorbar": {
              "outlinewidth": 0,
              "ticks": ""
             }
            },
            "type": "scatterternary"
           }
          ],
          "surface": [
           {
            "colorbar": {
             "outlinewidth": 0,
             "ticks": ""
            },
            "colorscale": [
             [
              0,
              "#0d0887"
             ],
             [
              0.1111111111111111,
              "#46039f"
             ],
             [
              0.2222222222222222,
              "#7201a8"
             ],
             [
              0.3333333333333333,
              "#9c179e"
             ],
             [
              0.4444444444444444,
              "#bd3786"
             ],
             [
              0.5555555555555556,
              "#d8576b"
             ],
             [
              0.6666666666666666,
              "#ed7953"
             ],
             [
              0.7777777777777778,
              "#fb9f3a"
             ],
             [
              0.8888888888888888,
              "#fdca26"
             ],
             [
              1,
              "#f0f921"
             ]
            ],
            "type": "surface"
           }
          ],
          "table": [
           {
            "cells": {
             "fill": {
              "color": "#EBF0F8"
             },
             "line": {
              "color": "white"
             }
            },
            "header": {
             "fill": {
              "color": "#C8D4E3"
             },
             "line": {
              "color": "white"
             }
            },
            "type": "table"
           }
          ]
         },
         "layout": {
          "annotationdefaults": {
           "arrowcolor": "#2a3f5f",
           "arrowhead": 0,
           "arrowwidth": 1
          },
          "coloraxis": {
           "colorbar": {
            "outlinewidth": 0,
            "ticks": ""
           }
          },
          "colorscale": {
           "diverging": [
            [
             0,
             "#8e0152"
            ],
            [
             0.1,
             "#c51b7d"
            ],
            [
             0.2,
             "#de77ae"
            ],
            [
             0.3,
             "#f1b6da"
            ],
            [
             0.4,
             "#fde0ef"
            ],
            [
             0.5,
             "#f7f7f7"
            ],
            [
             0.6,
             "#e6f5d0"
            ],
            [
             0.7,
             "#b8e186"
            ],
            [
             0.8,
             "#7fbc41"
            ],
            [
             0.9,
             "#4d9221"
            ],
            [
             1,
             "#276419"
            ]
           ],
           "sequential": [
            [
             0,
             "#0d0887"
            ],
            [
             0.1111111111111111,
             "#46039f"
            ],
            [
             0.2222222222222222,
             "#7201a8"
            ],
            [
             0.3333333333333333,
             "#9c179e"
            ],
            [
             0.4444444444444444,
             "#bd3786"
            ],
            [
             0.5555555555555556,
             "#d8576b"
            ],
            [
             0.6666666666666666,
             "#ed7953"
            ],
            [
             0.7777777777777778,
             "#fb9f3a"
            ],
            [
             0.8888888888888888,
             "#fdca26"
            ],
            [
             1,
             "#f0f921"
            ]
           ],
           "sequentialminus": [
            [
             0,
             "#0d0887"
            ],
            [
             0.1111111111111111,
             "#46039f"
            ],
            [
             0.2222222222222222,
             "#7201a8"
            ],
            [
             0.3333333333333333,
             "#9c179e"
            ],
            [
             0.4444444444444444,
             "#bd3786"
            ],
            [
             0.5555555555555556,
             "#d8576b"
            ],
            [
             0.6666666666666666,
             "#ed7953"
            ],
            [
             0.7777777777777778,
             "#fb9f3a"
            ],
            [
             0.8888888888888888,
             "#fdca26"
            ],
            [
             1,
             "#f0f921"
            ]
           ]
          },
          "colorway": [
           "#636efa",
           "#EF553B",
           "#00cc96",
           "#ab63fa",
           "#FFA15A",
           "#19d3f3",
           "#FF6692",
           "#B6E880",
           "#FF97FF",
           "#FECB52"
          ],
          "font": {
           "color": "#2a3f5f"
          },
          "geo": {
           "bgcolor": "white",
           "lakecolor": "white",
           "landcolor": "#E5ECF6",
           "showlakes": true,
           "showland": true,
           "subunitcolor": "white"
          },
          "hoverlabel": {
           "align": "left"
          },
          "hovermode": "closest",
          "mapbox": {
           "style": "light"
          },
          "paper_bgcolor": "white",
          "plot_bgcolor": "#E5ECF6",
          "polar": {
           "angularaxis": {
            "gridcolor": "white",
            "linecolor": "white",
            "ticks": ""
           },
           "bgcolor": "#E5ECF6",
           "radialaxis": {
            "gridcolor": "white",
            "linecolor": "white",
            "ticks": ""
           }
          },
          "scene": {
           "xaxis": {
            "backgroundcolor": "#E5ECF6",
            "gridcolor": "white",
            "gridwidth": 2,
            "linecolor": "white",
            "showbackground": true,
            "ticks": "",
            "zerolinecolor": "white"
           },
           "yaxis": {
            "backgroundcolor": "#E5ECF6",
            "gridcolor": "white",
            "gridwidth": 2,
            "linecolor": "white",
            "showbackground": true,
            "ticks": "",
            "zerolinecolor": "white"
           },
           "zaxis": {
            "backgroundcolor": "#E5ECF6",
            "gridcolor": "white",
            "gridwidth": 2,
            "linecolor": "white",
            "showbackground": true,
            "ticks": "",
            "zerolinecolor": "white"
           }
          },
          "shapedefaults": {
           "line": {
            "color": "#2a3f5f"
           }
          },
          "ternary": {
           "aaxis": {
            "gridcolor": "white",
            "linecolor": "white",
            "ticks": ""
           },
           "baxis": {
            "gridcolor": "white",
            "linecolor": "white",
            "ticks": ""
           },
           "bgcolor": "#E5ECF6",
           "caxis": {
            "gridcolor": "white",
            "linecolor": "white",
            "ticks": ""
           }
          },
          "title": {
           "x": 0.05
          },
          "xaxis": {
           "automargin": true,
           "gridcolor": "white",
           "linecolor": "white",
           "ticks": "",
           "title": {
            "standoff": 15
           },
           "zerolinecolor": "white",
           "zerolinewidth": 2
          },
          "yaxis": {
           "automargin": true,
           "gridcolor": "white",
           "linecolor": "white",
           "ticks": "",
           "title": {
            "standoff": 15
           },
           "zerolinecolor": "white",
           "zerolinewidth": 2
          }
         }
        },
        "width": 1000
       }
      },
      "text/html": [
       "<div>\n",
       "        \n",
       "        \n",
       "            <div id=\"70d9b48b-9baa-4f20-9730-e4ffa9856096\" class=\"plotly-graph-div\" style=\"height:1000px; width:1000px;\"></div>\n",
       "            <script type=\"text/javascript\">\n",
       "                require([\"plotly\"], function(Plotly) {\n",
       "                    window.PLOTLYENV=window.PLOTLYENV || {};\n",
       "                    \n",
       "                if (document.getElementById(\"70d9b48b-9baa-4f20-9730-e4ffa9856096\")) {\n",
       "                    Plotly.newPlot(\n",
       "                        '70d9b48b-9baa-4f20-9730-e4ffa9856096',\n",
       "                        [{\"branchvalues\": \"total\", \"domain\": {\"x\": [0.0, 1.0], \"y\": [0.0, 1.0]}, \"hoverlabel\": {\"namelength\": 0}, \"hovertemplate\": \"labels=%{label}<br>count=%{value}<br>parent=%{parent}<br>id=%{id}\", \"ids\": [\"My Network/Baufest/Account Manager\", \"My Network/Universidad del CEMA/Admisiones y Desarrollo Institucional\", \"My Network/Facultad de Ciencias Econ\\u00f3micas UNLP/Adscripto Graduado\", \"My Network/AFIP/Analista\", \"My Network/Banco Galicia/Analista\", \"My Network/Hospital Italiano de Buenos Aires/Analista\", \"My Network/Ministerio del Interior, Obras P\\u00fablicas y Vivienda/Analista\", \"My Network/Ual\\u00e1/Analista BI\", \"My Network/Banco de la Provincia de Buenos Aires/Analista Desarrollador Semi Sr\", \"My Network/Ministerio de Hacienda/Analista Direcci\\u00f3n Nacional de Financiamiento con Organismos Regionales de Cr\\u00e9dito\", \"My Network/Banco de la Provincia de Buenos Aires/Analista Econ\\u00f3mico Financiero\", \"My Network/Oracle/Analista Oracle Netsuite\", \"My Network/Ministerio de Hacienda/Analista Politica Fiscal\", \"My Network/Banco Central de la Rep\\u00fablica Argentina/Analista Principal de Investigaciones Econ\\u00f3micas\", \"My Network/INDEC Argentina/Analista T\\u00e9cnico\", \"My Network/Ministerio de Econom\\u00eda/Analista de Pol\\u00edtica Fiscal\", \"My Network/Gobierno de la Ciudad de Buenos Aires/Analista de Presupuesto\", \"My Network/Gobierno de la Ciudad de Buenos Aires/Analista de Presupuesto Secretaria de Integraci\\u00f3n Social y Urbana\", \"My Network/Accenture/Analista de contabilidad\", \"My Network/Banco Galicia/Analista de contenidos\", \"My Network/Gobierno de la Ciudad de Buenos Aires/Analista de datos\", \"My Network/Ministerio de Producci\\u00f3n y Trabajo de la Naci\\u00f3n/Analista de datos\", \"My Network/Ministerio de Producci\\u00f3n y Trabajo de la Naci\\u00f3n/Analista de gesti\\u00f3n\", \"My Network/Accenture/Analista de marketing y ventas en Accenture\", \"My Network/BBVA en Argentina/Analista de riesgos financieros\", \"My Network/Ual\\u00e1/Analista de validaci\\u00f3n\", \"My Network/Oracle/Analista funcional de  Netsuite - Oracle\", \"My Network/Gobierno de la Provincia de Buenos Aires/Analista superior de datos\", \"My Network/Ministerio de Hacienda/Analista. Direcci\\u00f3n de An\\u00e1lisis del Sector Externo\", \"My Network/INDEC Argentina/Analysis of data and investigation in the Directorate of the Permanent Household Survey (EPH)\", \"My Network/Gobierno de la Ciudad de Buenos Aires/Asesor\", \"My Network/Ministerio de Hacienda/Asesor\", \"My Network/Ministerio del Interior, Obras P\\u00fablicas y Vivienda/Asesor\", \"My Network/AFIP/Asesor Mayor\", \"My Network/MINISTERIO DE INFRAESTRUCTURA VIVIENDA Y SERVICIOS PUBLICOS/Asesor T\\u00e9cnico - Redeterminaci\\u00f3n de Precios de Contratos de Obra P\\u00fablica\", \"My Network/INDEC Argentina/Asesora en Direcci\\u00f3n Nacional de Cuentas Internacionales\", \"My Network/Banco Central de la Rep\\u00fablica Argentina/Asistente de an\\u00e1lisis monetario\", \"My Network/PwC Argentina/Associate 2\", \"My Network/Mercado Libre/Atenci\\u00f3n al cliente\", \"My Network/invertirOnline.com/Atenci\\u00f3n al cliente\", \"My Network/Facultad de Ciencias Econ\\u00f3micas UNLP/Auditora externa\", \"My Network/Oracle/Autonomous Database Sales Representative - Enterprise Accounts \", \"My Network/Grupo Randazzo/Auxiliar administrativo\", \"My Network/Facultad de Ciencias Econ\\u00f3micas UNLP/Ayudante Alumno ad-honorem\", \"My Network/Universidad Nacional de La Plata/Ayudante Diplomado en Econom\\u00eda y Regulaci\\u00f3n de los Servicios P\\u00fablicos\", \"My Network/Universidad Nacional de La Plata/Ayudante adscripto de la c\\u00e1tedra de Matem\\u00e1tica I\", \"My Network/IT Convergence/B2B Sales\", \"My Network/Telef\\u00f3nica/BI analytics analyst \", \"My Network/Telef\\u00f3nica/Big Data Analyst - Big Data & Advanced Analytics\", \"My Network/Ual\\u00e1/Business Analytics Manager\", \"My Network/Oracle/Business Development Consultant\", \"My Network/Accenture/Business Intelligence Analyst\", \"My Network/Oracle/Business Transformation Sales Account Manager\", \"My Network/Oracle/CX Cloud Consultant\", \"My Network/Oracle/CX Consultant / Analista Funcional\", \"My Network/Accenture/Client Financial Management Analyst\", \"My Network/Accenture/Client Financial Management Specialist\", \"My Network/Accenture Argentina/Client Financial Mgmt Analyst\", \"My Network/Universidad Nacional de La Plata/Community Manager\", \"My Network/NetSuite/Consultant ERP Cloud\", \"My Network/Oracle/Consultant Middleware\", \"My Network/Oracle/Consultant Oracle Netsuite\", \"My Network/Oracle/Consulting Delivery Director\", \"My Network/Oracle/Consulting Staff Principal\", \"My Network/Oracle/Consultor EPM\", \"My Network/NetSuite/Consultor ERP\", \"My Network/Gobierno de la Ciudad de Buenos Aires/Consultor Externo de Evaluaci\\u00f3n de Gasto\", \"My Network/Oracle/Consultor Funcional ERP Netsuite\", \"My Network/Oracle/Consultor Funcional de Oracle ERP Cloud\", \"My Network/Tecnosoftware/Consultor Netsuite en Oracle Argentina\", \"My Network/Ministerio de Producci\\u00f3n de la Naci\\u00f3n/Consultor Secretaria de Industria\", \"My Network/KPMG Argentina/Consultor de precios de transferencia Jr\", \"My Network/Oracle/Consultor de servicios financieros\", \"My Network/Oracle/Consultor funcional\", \"My Network/Oracle/Consultor funcional financiero de Oracle\", \"My Network/Comisi\\u00f3n Econ\\u00f3mica para Am\\u00e9rica Latina y el Caribe (CEPAL)/Consultor/a\", \"My Network/NetSuite/Consultor/a\", \"My Network/Oracle/Consultor/a\", \"My Network/Oracle/Consultora Funcional en el Area de finanzas para ERP\", \"My Network/Aut\\u00f3nomo/Consultora Sr. en Energ\\u00eda\", \"My Network/Oracle/Consultora funcional en el \\u00e1rea de finanzas para ERP\", \"My Network/Gobierno de la Ciudad de Buenos Aires/Coordinaci\\u00f3n de Seguimiento de Proyectos Urbanos - DGPLUR - SECDU - JdGMGC - GCABA\", \"My Network/ANSES/Coordinador de An\\u00e1lisis Integral de la Seguridad Social\", \"My Network/Grupo Randazzo/Coordinador de selecci\\u00f3n de personal de RR. HH.\", \"My Network/INDEC Argentina/Coordinadora en Precios Mayoristas\", \"My Network/Accenture/Corporate Function Finance Associate\", \"My Network/Oracle/Customer experience consultant\", \"My Network/INDEC Argentina/Data Analyst\", \"My Network/PwC Argentina/Data Analyst - Actuarial Risk\", \"My Network/Ual\\u00e1/Data Integration Lead\", \"My Network/Baufest/Data Practice Head - Americas\", \"My Network/Ual\\u00e1/Data Research Analyst\", \"My Network/Ual\\u00e1/Data Science & Research\", \"My Network/Ual\\u00e1/Data Science & Research Leader\", \"My Network/Accenture/Data Science Manager @ Accenture Applied Intelligence\", \"My Network/Mercado Libre/Data Scientist\", \"My Network/Santander Argentina/Data Scientist\", \"My Network/Ual\\u00e1/Data Scientist\", \"My Network/Banco de la Provincia de Buenos Aires/Data Scientist en Customer Experience\", \"My Network/Accenture/Data Specialist\", \"My Network/Universidad Torcuato Di Tella/Dean, School of Government\", \"My Network/Invecq Consulting SA/Director\", \"My Network/ANSES/Director Ejecutivo de ANSES\", \"My Network/Gobierno de la Ciudad de Buenos Aires/Director General de Coordinaci\\u00f3n de Gesti\\u00f3n\", \"My Network/ANSES/Directora General de Proyectos de Ni\\u00f1ez, Adolescencia, Juventud y G\\u00e9nero.\", \"My Network/Ministerio de Hacienda/Directora Nacional Econom\\u00eda y G\\u00e9nero\", \"My Network/Ministerio de Econom\\u00eda/Directora de Proyecciones y Estad\\u00edsticas Presupuestarias\", \"My Network/Universidad de Buenos Aires/Docente\", \"My Network/Universidad Nacional de La Plata/Docente \", \"My Network/Oracle/EPM Principal consultant\", \"My Network/Oracle/EPM Senior Consultant\", \"My Network/Oracle/ERP Financial Functional Consultant\", \"My Network/Oracle/ERP Staff Consultant\", \"My Network/Ministerio de Producci\\u00f3n y Trabajo de la Naci\\u00f3n/Economic Advisor to the Foreing Trade Secretary\", \"My Network/FIEL/Economista\", \"My Network/Ministerio de Desarrollo Productivo de la Naci\\u00f3n/Economista\", \"My Network/The World Bank/Economista\", \"My Network/FIEL/Economista Jefe\", \"My Network/invertirOnline.com/Ejecutivo Comercial\", \"My Network/BBVA en Argentina/Ejecutivo Premium Direct\", \"My Network/Banco Macro/Ejecutivo de clientes\", \"My Network/MINISTERIO DE INFRAESTRUCTURA VIVIENDA Y SERVICIOS PUBLICOS/Empleado gubernamental\", \"My Network/Aut\\u00f3nomo/Emprendedor independiente\", \"My Network/EY/Engineering Team Lead - Artificial Intelligence Client Technology\", \"My Network/Oracle/Facilities Manager\", \"My Network/Accenture/Finance Analyst\", \"My Network/Banco de la Provincia de Buenos Aires/Financial & Economic Analyst\", \"My Network/Accenture Argentina/Financial Services Research Associate Manager\", \"My Network/Ual\\u00e1/Financial Systems Manager\", \"My Network/Ministerio de Producci\\u00f3n de la Naci\\u00f3n/Formadora en Academia Argentina Emprende\", \"My Network/NetSuite/Founder and EVP of Oracle NetSuite\", \"My Network/NetSuite/GM of NetSuite Uruguay, and Senior Director of Ecommerce, NetSuite\", \"My Network/Gobierno de la Ciudad de Buenos Aires/Gerente Operativo de Recursos Humanos\", \"My Network/Banco de la Naci\\u00f3n Argentina/Gerente de Auditor\\u00eda de Procesos Centrales\", \"My Network/Santander Argentina/Gerente de Gesti\\u00f3n Integral de Riesgos (ERM)\", \"My Network/YPF SA/Gesti\\u00f3n en control de producci\\u00f3n\", \"My Network/Accenture/Global Corporate Function Finance Associate\", \"My Network/Accenture/Head of Economic and Data Science Research, Accenture Research\", \"My Network/KPMG Argentina/Head of People & Change | Digital & Agile Transformation | Advisory | Consulting\", \"My Network/Banco Central de la Rep\\u00fablica Argentina/Inspector Senior de Riesgo Crediticio\", \"My Network/Universidad Nacional de General Sarmiento/Investigador\", \"My Network/Universidad Nacional de La Plata/Investigador\", \"My Network/Universidad de Buenos Aires/Investigador\", \"My Network/Universidad Nacional de General Sarmiento/Investigador-Docente\", \"My Network/Universidad Nacional de General Sarmiento/Investigadora\", \"My Network/Comisi\\u00f3n Econ\\u00f3mica para Am\\u00e9rica Latina y el Caribe (CEPAL)/Investigadora asistente\", \"My Network/INDEC Argentina/Investigadora en la Cuenta Sat\\u00e9lite de Cultura\", \"My Network/Ual\\u00e1/Jefe de administraci\\u00f3n\", \"My Network/Oracle/Junior Business Consultant\", \"My Network/Banco Macro/Lider de Equipos Estimaci\\u00f3n de Perdidas Crediticias\", \"My Network/Hospital Italiano de Buenos Aires/Machine Learning Engineer (Information Retrieval & Natural Language Processing)\", \"My Network/Universidad Nacional de La Plata/Macroeconomics I \", \"My Network/Oracle/Managing Director\", \"My Network/Oracle/Managing Principal Consultant\", \"My Network/Ministerio de Desarrollo Productivo de la Naci\\u00f3n/Ministro\", \"My Network/Oracle/NetSuite Consultant\", \"My Network/Oracle/NetSuite Functional Consultant  - LAD\", \"My Network/Oracle/NetSuite Functional Consultant Jr - LAD\", \"My Network/Oracle/NetSuite PS Country Leader Argentina\", \"My Network/Oracle/NetSuite Technical Consultant\", \"My Network/Oracle/Netsuite Cloud - Latin America Delivery Lead\", \"My Network/Oracle/Netsuite Consultant\", \"My Network/Oracle/Netsuite Consulting Practice Manager for Latin America\", \"My Network/YPF SA/Nuevo Profesional - Optimizaci\\u00f3n y control\", \"My Network/Oracle/Oracle Gerente de Proyecto | L\\u00edder de Implementaci\\u00f3n | Consultor Sr Oracle Ebs y  Cloud\", \"My Network/Tecnosoftware/Oracle NetSuite Consultant\", \"My Network/AFIP/PROFESIONAL CONTABLE\", \"My Network/Universidad Nacional de La Plata/Posgrados Econ\\u00f3micas\", \"My Network/Invecq Consulting SA/Presidente\", \"My Network/Oracle/Principal Consultant Oracle NetSuite\", \"My Network/NetSuite/Product Manager\", \"My Network/Universidad de Buenos Aires/Profesor - Especializaci\\u00f3n en Mercado de Capitales (UBA-BYMA)\", \"My Network/Universidad Nacional de La Plata/Profesor Adjunto Finanzas P\\u00fablicas I\", \"My Network/Universidad del CEMA/Profesor Asociado\", \"My Network/Universidad del CEMA/Profesor econometria\", \"My Network/Universidad Torcuato Di Tella/Profesor visitante\", \"My Network/Oracle/Programador s\\u00e9nior\", \"My Network/IT Convergence/Recruitment & Sales Manager\", \"My Network/The World Bank/Research Analyst\", \"My Network/Gobierno de la Ciudad de Buenos Aires/Secretario de Ambiente\", \"My Network/Oracle/Senior Implementation Consultant\", \"My Network/Oracle/Senior Vice President Applications\", \"My Network/YPF SA/Soporte T\\u00e9cnico Presencial\", \"My Network/Ministerio de Producci\\u00f3n de la Naci\\u00f3n/Soporte T\\u00e9cnico, Administrativo y Operativo de la Unidad t\\u00e9cnica del CONSEJO DE LA PRODUCCI\\u00d3N\", \"My Network/ARBA/Subdirector Ejecutivo de Recaudaci\\u00f3n y Catastro\", \"My Network/Banco Central de la Rep\\u00fablica Argentina/Subgerente de modelos macro-financieros\", \"My Network/Gobierno de la Provincia de Buenos Aires/Subsecretar\\u00eda de Coordinacion de la Gestion \", \"My Network/Mercado Libre/Supervisor de Prevenci\\u00f3n de Fraude\", \"My Network/Ual\\u00e1/Talent Acquisition Specialist\", \"My Network/EY/Tax analyst\", \"My Network/NetSuite/Technical Consultant\", \"My Network/Baufest/Technical Expert\", \"My Network/ARBA/Tecnico impositivo\", \"My Network/Universidad Nacional de La Plata/Trabajo de campo\", \"My Network/EY/Transfer Pricing Manager\", \"My Network/Banco de la Naci\\u00f3n Argentina/Vicepresidente\", \"My Network/Universidad de Buenos Aires/Webmaster\", \"My Network/Grupo Randazzo/administrativa\", \"My Network/Oracle/consultor cx\", \"My Network/YPF SA/operador de campo\", \"My Network/AFIP\", \"My Network/ANSES\", \"My Network/ARBA\", \"My Network/Accenture\", \"My Network/Accenture Argentina\", \"My Network/Aut\\u00f3nomo\", \"My Network/BBVA en Argentina\", \"My Network/Banco Central de la Rep\\u00fablica Argentina\", \"My Network/Banco Galicia\", \"My Network/Banco Macro\", \"My Network/Banco de la Naci\\u00f3n Argentina\", \"My Network/Banco de la Provincia de Buenos Aires\", \"My Network/Baufest\", \"My Network/Comisi\\u00f3n Econ\\u00f3mica para Am\\u00e9rica Latina y el Caribe (CEPAL)\", \"My Network/EY\", \"My Network/FIEL\", \"My Network/Facultad de Ciencias Econ\\u00f3micas UNLP\", \"My Network/Gobierno de la Ciudad de Buenos Aires\", \"My Network/Gobierno de la Provincia de Buenos Aires\", \"My Network/Grupo Randazzo\", \"My Network/Hospital Italiano de Buenos Aires\", \"My Network/INDEC Argentina\", \"My Network/IT Convergence\", \"My Network/Invecq Consulting SA\", \"My Network/KPMG Argentina\", \"My Network/MINISTERIO DE INFRAESTRUCTURA VIVIENDA Y SERVICIOS PUBLICOS\", \"My Network/Mercado Libre\", \"My Network/Ministerio de Desarrollo Productivo de la Naci\\u00f3n\", \"My Network/Ministerio de Econom\\u00eda\", \"My Network/Ministerio de Hacienda\", \"My Network/Ministerio de Producci\\u00f3n de la Naci\\u00f3n\", \"My Network/Ministerio de Producci\\u00f3n y Trabajo de la Naci\\u00f3n\", \"My Network/Ministerio del Interior, Obras P\\u00fablicas y Vivienda\", \"My Network/NetSuite\", \"My Network/Oracle\", \"My Network/PwC Argentina\", \"My Network/Santander Argentina\", \"My Network/Tecnosoftware\", \"My Network/Telef\\u00f3nica\", \"My Network/The World Bank\", \"My Network/Ual\\u00e1\", \"My Network/Universidad Nacional de General Sarmiento\", \"My Network/Universidad Nacional de La Plata\", \"My Network/Universidad Torcuato Di Tella\", \"My Network/Universidad de Buenos Aires\", \"My Network/Universidad del CEMA\", \"My Network/YPF SA\", \"My Network/invertirOnline.com\", \"My Network\"], \"labels\": [\"Account Manager\", \"Admisiones y Desarrollo Institucional\", \"Adscripto Graduado\", \"Analista\", \"Analista\", \"Analista\", \"Analista\", \"Analista BI\", \"Analista Desarrollador Semi Sr\", \"Analista Direcci\\u00f3n Nacional de Financiamiento con Organismos Regionales de Cr\\u00e9dito\", \"Analista Econ\\u00f3mico Financiero\", \"Analista Oracle Netsuite\", \"Analista Politica Fiscal\", \"Analista Principal de Investigaciones Econ\\u00f3micas\", \"Analista T\\u00e9cnico\", \"Analista de Pol\\u00edtica Fiscal\", \"Analista de Presupuesto\", \"Analista de Presupuesto Secretaria de Integraci\\u00f3n Social y Urbana\", \"Analista de contabilidad\", \"Analista de contenidos\", \"Analista de datos\", \"Analista de datos\", \"Analista de gesti\\u00f3n\", \"Analista de marketing y ventas en Accenture\", \"Analista de riesgos financieros\", \"Analista de validaci\\u00f3n\", \"Analista funcional de  Netsuite - Oracle\", \"Analista superior de datos\", \"Analista. Direcci\\u00f3n de An\\u00e1lisis del Sector Externo\", \"Analysis of data and investigation in the Directorate of the Permanent Household Survey (EPH)\", \"Asesor\", \"Asesor\", \"Asesor\", \"Asesor Mayor\", \"Asesor T\\u00e9cnico - Redeterminaci\\u00f3n de Precios de Contratos de Obra P\\u00fablica\", \"Asesora en Direcci\\u00f3n Nacional de Cuentas Internacionales\", \"Asistente de an\\u00e1lisis monetario\", \"Associate 2\", \"Atenci\\u00f3n al cliente\", \"Atenci\\u00f3n al cliente\", \"Auditora externa\", \"Autonomous Database Sales Representative - Enterprise Accounts \", \"Auxiliar administrativo\", \"Ayudante Alumno ad-honorem\", \"Ayudante Diplomado en Econom\\u00eda y Regulaci\\u00f3n de los Servicios P\\u00fablicos\", \"Ayudante adscripto de la c\\u00e1tedra de Matem\\u00e1tica I\", \"B2B Sales\", \"BI analytics analyst \", \"Big Data Analyst - Big Data & Advanced Analytics\", \"Business Analytics Manager\", \"Business Development Consultant\", \"Business Intelligence Analyst\", \"Business Transformation Sales Account Manager\", \"CX Cloud Consultant\", \"CX Consultant / Analista Funcional\", \"Client Financial Management Analyst\", \"Client Financial Management Specialist\", \"Client Financial Mgmt Analyst\", \"Community Manager\", \"Consultant ERP Cloud\", \"Consultant Middleware\", \"Consultant Oracle Netsuite\", \"Consulting Delivery Director\", \"Consulting Staff Principal\", \"Consultor EPM\", \"Consultor ERP\", \"Consultor Externo de Evaluaci\\u00f3n de Gasto\", \"Consultor Funcional ERP Netsuite\", \"Consultor Funcional de Oracle ERP Cloud\", \"Consultor Netsuite en Oracle Argentina\", \"Consultor Secretaria de Industria\", \"Consultor de precios de transferencia Jr\", \"Consultor de servicios financieros\", \"Consultor funcional\", \"Consultor funcional financiero de Oracle\", \"Consultor/a\", \"Consultor/a\", \"Consultor/a\", \"Consultora Funcional en el Area de finanzas para ERP\", \"Consultora Sr. en Energ\\u00eda\", \"Consultora funcional en el \\u00e1rea de finanzas para ERP\", \"Coordinaci\\u00f3n de Seguimiento de Proyectos Urbanos - DGPLUR - SECDU - JdGMGC - GCABA\", \"Coordinador de An\\u00e1lisis Integral de la Seguridad Social\", \"Coordinador de selecci\\u00f3n de personal de RR. HH.\", \"Coordinadora en Precios Mayoristas\", \"Corporate Function Finance Associate\", \"Customer experience consultant\", \"Data Analyst\", \"Data Analyst - Actuarial Risk\", \"Data Integration Lead\", \"Data Practice Head - Americas\", \"Data Research Analyst\", \"Data Science & Research\", \"Data Science & Research Leader\", \"Data Science Manager @ Accenture Applied Intelligence\", \"Data Scientist\", \"Data Scientist\", \"Data Scientist\", \"Data Scientist en Customer Experience\", \"Data Specialist\", \"Dean, School of Government\", \"Director\", \"Director Ejecutivo de ANSES\", \"Director General de Coordinaci\\u00f3n de Gesti\\u00f3n\", \"Directora General de Proyectos de Ni\\u00f1ez, Adolescencia, Juventud y G\\u00e9nero.\", \"Directora Nacional Econom\\u00eda y G\\u00e9nero\", \"Directora de Proyecciones y Estad\\u00edsticas Presupuestarias\", \"Docente\", \"Docente \", \"EPM Principal consultant\", \"EPM Senior Consultant\", \"ERP Financial Functional Consultant\", \"ERP Staff Consultant\", \"Economic Advisor to the Foreing Trade Secretary\", \"Economista\", \"Economista\", \"Economista\", \"Economista Jefe\", \"Ejecutivo Comercial\", \"Ejecutivo Premium Direct\", \"Ejecutivo de clientes\", \"Empleado gubernamental\", \"Emprendedor independiente\", \"Engineering Team Lead - Artificial Intelligence Client Technology\", \"Facilities Manager\", \"Finance Analyst\", \"Financial & Economic Analyst\", \"Financial Services Research Associate Manager\", \"Financial Systems Manager\", \"Formadora en Academia Argentina Emprende\", \"Founder and EVP of Oracle NetSuite\", \"GM of NetSuite Uruguay, and Senior Director of Ecommerce, NetSuite\", \"Gerente Operativo de Recursos Humanos\", \"Gerente de Auditor\\u00eda de Procesos Centrales\", \"Gerente de Gesti\\u00f3n Integral de Riesgos (ERM)\", \"Gesti\\u00f3n en control de producci\\u00f3n\", \"Global Corporate Function Finance Associate\", \"Head of Economic and Data Science Research, Accenture Research\", \"Head of People & Change | Digital & Agile Transformation | Advisory | Consulting\", \"Inspector Senior de Riesgo Crediticio\", \"Investigador\", \"Investigador\", \"Investigador\", \"Investigador-Docente\", \"Investigadora\", \"Investigadora asistente\", \"Investigadora en la Cuenta Sat\\u00e9lite de Cultura\", \"Jefe de administraci\\u00f3n\", \"Junior Business Consultant\", \"Lider de Equipos Estimaci\\u00f3n de Perdidas Crediticias\", \"Machine Learning Engineer (Information Retrieval & Natural Language Processing)\", \"Macroeconomics I \", \"Managing Director\", \"Managing Principal Consultant\", \"Ministro\", \"NetSuite Consultant\", \"NetSuite Functional Consultant  - LAD\", \"NetSuite Functional Consultant Jr - LAD\", \"NetSuite PS Country Leader Argentina\", \"NetSuite Technical Consultant\", \"Netsuite Cloud - Latin America Delivery Lead\", \"Netsuite Consultant\", \"Netsuite Consulting Practice Manager for Latin America\", \"Nuevo Profesional - Optimizaci\\u00f3n y control\", \"Oracle Gerente de Proyecto | L\\u00edder de Implementaci\\u00f3n | Consultor Sr Oracle Ebs y  Cloud\", \"Oracle NetSuite Consultant\", \"PROFESIONAL CONTABLE\", \"Posgrados Econ\\u00f3micas\", \"Presidente\", \"Principal Consultant Oracle NetSuite\", \"Product Manager\", \"Profesor - Especializaci\\u00f3n en Mercado de Capitales (UBA-BYMA)\", \"Profesor Adjunto Finanzas P\\u00fablicas I\", \"Profesor Asociado\", \"Profesor econometria\", \"Profesor visitante\", \"Programador s\\u00e9nior\", \"Recruitment & Sales Manager\", \"Research Analyst\", \"Secretario de Ambiente\", \"Senior Implementation Consultant\", \"Senior Vice President Applications\", \"Soporte T\\u00e9cnico Presencial\", \"Soporte T\\u00e9cnico, Administrativo y Operativo de la Unidad t\\u00e9cnica del CONSEJO DE LA PRODUCCI\\u00d3N\", \"Subdirector Ejecutivo de Recaudaci\\u00f3n y Catastro\", \"Subgerente de modelos macro-financieros\", \"Subsecretar\\u00eda de Coordinacion de la Gestion \", \"Supervisor de Prevenci\\u00f3n de Fraude\", \"Talent Acquisition Specialist\", \"Tax analyst\", \"Technical Consultant\", \"Technical Expert\", \"Tecnico impositivo\", \"Trabajo de campo\", \"Transfer Pricing Manager\", \"Vicepresidente\", \"Webmaster\", \"administrativa\", \"consultor cx\", \"operador de campo\", \"AFIP\", \"ANSES\", \"ARBA\", \"Accenture\", \"Accenture Argentina\", \"Aut\\u00f3nomo\", \"BBVA en Argentina\", \"Banco Central de la Rep\\u00fablica Argentina\", \"Banco Galicia\", \"Banco Macro\", \"Banco de la Naci\\u00f3n Argentina\", \"Banco de la Provincia de Buenos Aires\", \"Baufest\", \"Comisi\\u00f3n Econ\\u00f3mica para Am\\u00e9rica Latina y el Caribe (CEPAL)\", \"EY\", \"FIEL\", \"Facultad de Ciencias Econ\\u00f3micas UNLP\", \"Gobierno de la Ciudad de Buenos Aires\", \"Gobierno de la Provincia de Buenos Aires\", \"Grupo Randazzo\", \"Hospital Italiano de Buenos Aires\", \"INDEC Argentina\", \"IT Convergence\", \"Invecq Consulting SA\", \"KPMG Argentina\", \"MINISTERIO DE INFRAESTRUCTURA VIVIENDA Y SERVICIOS PUBLICOS\", \"Mercado Libre\", \"Ministerio de Desarrollo Productivo de la Naci\\u00f3n\", \"Ministerio de Econom\\u00eda\", \"Ministerio de Hacienda\", \"Ministerio de Producci\\u00f3n de la Naci\\u00f3n\", \"Ministerio de Producci\\u00f3n y Trabajo de la Naci\\u00f3n\", \"Ministerio del Interior, Obras P\\u00fablicas y Vivienda\", \"NetSuite\", \"Oracle\", \"PwC Argentina\", \"Santander Argentina\", \"Tecnosoftware\", \"Telef\\u00f3nica\", \"The World Bank\", \"Ual\\u00e1\", \"Universidad Nacional de General Sarmiento\", \"Universidad Nacional de La Plata\", \"Universidad Torcuato Di Tella\", \"Universidad de Buenos Aires\", \"Universidad del CEMA\", \"YPF SA\", \"invertirOnline.com\", \"My Network\"], \"name\": \"\", \"parents\": [\"My Network/Baufest\", \"My Network/Universidad del CEMA\", \"My Network/Facultad de Ciencias Econ\\u00f3micas UNLP\", \"My Network/AFIP\", \"My Network/Banco Galicia\", \"My Network/Hospital Italiano de Buenos Aires\", \"My Network/Ministerio del Interior, Obras P\\u00fablicas y Vivienda\", \"My Network/Ual\\u00e1\", \"My Network/Banco de la Provincia de Buenos Aires\", \"My Network/Ministerio de Hacienda\", \"My Network/Banco de la Provincia de Buenos Aires\", \"My Network/Oracle\", \"My Network/Ministerio de Hacienda\", \"My Network/Banco Central de la Rep\\u00fablica Argentina\", \"My Network/INDEC Argentina\", \"My Network/Ministerio de Econom\\u00eda\", \"My Network/Gobierno de la Ciudad de Buenos Aires\", \"My Network/Gobierno de la Ciudad de Buenos Aires\", \"My Network/Accenture\", \"My Network/Banco Galicia\", \"My Network/Gobierno de la Ciudad de Buenos Aires\", \"My Network/Ministerio de Producci\\u00f3n y Trabajo de la Naci\\u00f3n\", \"My Network/Ministerio de Producci\\u00f3n y Trabajo de la Naci\\u00f3n\", \"My Network/Accenture\", \"My Network/BBVA en Argentina\", \"My Network/Ual\\u00e1\", \"My Network/Oracle\", \"My Network/Gobierno de la Provincia de Buenos Aires\", \"My Network/Ministerio de Hacienda\", \"My Network/INDEC Argentina\", \"My Network/Gobierno de la Ciudad de Buenos Aires\", \"My Network/Ministerio de Hacienda\", \"My Network/Ministerio del Interior, Obras P\\u00fablicas y Vivienda\", \"My Network/AFIP\", \"My Network/MINISTERIO DE INFRAESTRUCTURA VIVIENDA Y SERVICIOS PUBLICOS\", \"My Network/INDEC Argentina\", \"My Network/Banco Central de la Rep\\u00fablica Argentina\", \"My Network/PwC Argentina\", \"My Network/Mercado Libre\", \"My Network/invertirOnline.com\", \"My Network/Facultad de Ciencias Econ\\u00f3micas UNLP\", \"My Network/Oracle\", \"My Network/Grupo Randazzo\", \"My Network/Facultad de Ciencias Econ\\u00f3micas UNLP\", \"My Network/Universidad Nacional de La Plata\", \"My Network/Universidad Nacional de La Plata\", \"My Network/IT Convergence\", \"My Network/Telef\\u00f3nica\", \"My Network/Telef\\u00f3nica\", \"My Network/Ual\\u00e1\", \"My Network/Oracle\", \"My Network/Accenture\", \"My Network/Oracle\", \"My Network/Oracle\", \"My Network/Oracle\", \"My Network/Accenture\", \"My Network/Accenture\", \"My Network/Accenture Argentina\", \"My Network/Universidad Nacional de La Plata\", \"My Network/NetSuite\", \"My Network/Oracle\", \"My Network/Oracle\", \"My Network/Oracle\", \"My Network/Oracle\", \"My Network/Oracle\", \"My Network/NetSuite\", \"My Network/Gobierno de la Ciudad de Buenos Aires\", \"My Network/Oracle\", \"My Network/Oracle\", \"My Network/Tecnosoftware\", \"My Network/Ministerio de Producci\\u00f3n de la Naci\\u00f3n\", \"My Network/KPMG Argentina\", \"My Network/Oracle\", \"My Network/Oracle\", \"My Network/Oracle\", \"My Network/Comisi\\u00f3n Econ\\u00f3mica para Am\\u00e9rica Latina y el Caribe (CEPAL)\", \"My Network/NetSuite\", \"My Network/Oracle\", \"My Network/Oracle\", \"My Network/Aut\\u00f3nomo\", \"My Network/Oracle\", \"My Network/Gobierno de la Ciudad de Buenos Aires\", \"My Network/ANSES\", \"My Network/Grupo Randazzo\", \"My Network/INDEC Argentina\", \"My Network/Accenture\", \"My Network/Oracle\", \"My Network/INDEC Argentina\", \"My Network/PwC Argentina\", \"My Network/Ual\\u00e1\", \"My Network/Baufest\", \"My Network/Ual\\u00e1\", \"My Network/Ual\\u00e1\", \"My Network/Ual\\u00e1\", \"My Network/Accenture\", \"My Network/Mercado Libre\", \"My Network/Santander Argentina\", \"My Network/Ual\\u00e1\", \"My Network/Banco de la Provincia de Buenos Aires\", \"My Network/Accenture\", \"My Network/Universidad Torcuato Di Tella\", \"My Network/Invecq Consulting SA\", \"My Network/ANSES\", \"My Network/Gobierno de la Ciudad de Buenos Aires\", \"My Network/ANSES\", \"My Network/Ministerio de Hacienda\", \"My Network/Ministerio de Econom\\u00eda\", \"My Network/Universidad de Buenos Aires\", \"My Network/Universidad Nacional de La Plata\", \"My Network/Oracle\", \"My Network/Oracle\", \"My Network/Oracle\", \"My Network/Oracle\", \"My Network/Ministerio de Producci\\u00f3n y Trabajo de la Naci\\u00f3n\", \"My Network/FIEL\", \"My Network/Ministerio de Desarrollo Productivo de la Naci\\u00f3n\", \"My Network/The World Bank\", \"My Network/FIEL\", \"My Network/invertirOnline.com\", \"My Network/BBVA en Argentina\", \"My Network/Banco Macro\", \"My Network/MINISTERIO DE INFRAESTRUCTURA VIVIENDA Y SERVICIOS PUBLICOS\", \"My Network/Aut\\u00f3nomo\", \"My Network/EY\", \"My Network/Oracle\", \"My Network/Accenture\", \"My Network/Banco de la Provincia de Buenos Aires\", \"My Network/Accenture Argentina\", \"My Network/Ual\\u00e1\", \"My Network/Ministerio de Producci\\u00f3n de la Naci\\u00f3n\", \"My Network/NetSuite\", \"My Network/NetSuite\", \"My Network/Gobierno de la Ciudad de Buenos Aires\", \"My Network/Banco de la Naci\\u00f3n Argentina\", \"My Network/Santander Argentina\", \"My Network/YPF SA\", \"My Network/Accenture\", \"My Network/Accenture\", \"My Network/KPMG Argentina\", \"My Network/Banco Central de la Rep\\u00fablica Argentina\", \"My Network/Universidad Nacional de General Sarmiento\", \"My Network/Universidad Nacional de La Plata\", \"My Network/Universidad de Buenos Aires\", \"My Network/Universidad Nacional de General Sarmiento\", \"My Network/Universidad Nacional de General Sarmiento\", \"My Network/Comisi\\u00f3n Econ\\u00f3mica para Am\\u00e9rica Latina y el Caribe (CEPAL)\", \"My Network/INDEC Argentina\", \"My Network/Ual\\u00e1\", \"My Network/Oracle\", \"My Network/Banco Macro\", \"My Network/Hospital Italiano de Buenos Aires\", \"My Network/Universidad Nacional de La Plata\", \"My Network/Oracle\", \"My Network/Oracle\", \"My Network/Ministerio de Desarrollo Productivo de la Naci\\u00f3n\", \"My Network/Oracle\", \"My Network/Oracle\", \"My Network/Oracle\", \"My Network/Oracle\", \"My Network/Oracle\", \"My Network/Oracle\", \"My Network/Oracle\", \"My Network/Oracle\", \"My Network/YPF SA\", \"My Network/Oracle\", \"My Network/Tecnosoftware\", \"My Network/AFIP\", \"My Network/Universidad Nacional de La Plata\", \"My Network/Invecq Consulting SA\", \"My Network/Oracle\", \"My Network/NetSuite\", \"My Network/Universidad de Buenos Aires\", \"My Network/Universidad Nacional de La Plata\", \"My Network/Universidad del CEMA\", \"My Network/Universidad del CEMA\", \"My Network/Universidad Torcuato Di Tella\", \"My Network/Oracle\", \"My Network/IT Convergence\", \"My Network/The World Bank\", \"My Network/Gobierno de la Ciudad de Buenos Aires\", \"My Network/Oracle\", \"My Network/Oracle\", \"My Network/YPF SA\", \"My Network/Ministerio de Producci\\u00f3n de la Naci\\u00f3n\", \"My Network/ARBA\", \"My Network/Banco Central de la Rep\\u00fablica Argentina\", \"My Network/Gobierno de la Provincia de Buenos Aires\", \"My Network/Mercado Libre\", \"My Network/Ual\\u00e1\", \"My Network/EY\", \"My Network/NetSuite\", \"My Network/Baufest\", \"My Network/ARBA\", \"My Network/Universidad Nacional de La Plata\", \"My Network/EY\", \"My Network/Banco de la Naci\\u00f3n Argentina\", \"My Network/Universidad de Buenos Aires\", \"My Network/Grupo Randazzo\", \"My Network/Oracle\", \"My Network/YPF SA\", \"My Network\", \"My Network\", \"My Network\", \"My Network\", \"My Network\", \"My Network\", \"My Network\", \"My Network\", \"My Network\", \"My Network\", \"My Network\", \"My Network\", \"My Network\", \"My Network\", \"My Network\", \"My Network\", \"My Network\", \"My Network\", \"My Network\", \"My Network\", \"My Network\", \"My Network\", \"My Network\", \"My Network\", \"My Network\", \"My Network\", \"My Network\", \"My Network\", \"My Network\", \"My Network\", \"My Network\", \"My Network\", \"My Network\", \"My Network\", \"My Network\", \"My Network\", \"My Network\", \"My Network\", \"My Network\", \"My Network\", \"My Network\", \"My Network\", \"My Network\", \"My Network\", \"My Network\", \"My Network\", \"My Network\", \"My Network\", \"\"], \"type\": \"treemap\", \"values\": [1, 1, 1, 1, 1, 1, 1, 3, 1, 1, 1, 1, 1, 1, 1, 1, 1, 1, 1, 1, 2, 1, 1, 1, 1, 1, 1, 1, 1, 1, 1, 1, 1, 1, 1, 1, 1, 1, 1, 1, 1, 1, 1, 1, 1, 1, 1, 1, 1, 1, 1, 1, 1, 1, 1, 3, 1, 1, 1, 1, 1, 1, 1, 1, 1, 1, 1, 1, 1, 1, 1, 1, 1, 1, 1, 1, 1, 3, 1, 1, 1, 1, 1, 1, 1, 1, 1, 1, 1, 1, 1, 1, 1, 1, 1, 1, 1, 1, 1, 1, 1, 1, 1, 1, 1, 1, 1, 1, 1, 1, 1, 1, 1, 1, 1, 1, 1, 1, 1, 1, 1, 1, 1, 1, 1, 1, 1, 1, 1, 1, 1, 1, 1, 1, 1, 1, 1, 1, 1, 1, 1, 1, 1, 1, 1, 1, 1, 1, 1, 1, 1, 1, 1, 1, 1, 1, 1, 1, 1, 1, 1, 1, 1, 1, 1, 1, 1, 1, 1, 1, 1, 1, 1, 1, 1, 1, 1, 1, 1, 1, 1, 1, 1, 1, 1, 1, 1, 1, 4, 1, 1, 1, 1, 1, 1, 1, 1, 1, 1, 1, 3, 3, 2, 13, 2, 2, 2, 4, 2, 2, 2, 4, 3, 2, 3, 2, 3, 10, 2, 3, 2, 6, 2, 2, 2, 2, 3, 2, 2, 5, 3, 3, 2, 7, 45, 2, 2, 2, 2, 2, 16, 3, 9, 2, 4, 3, 4, 2, 210]}],\n",
       "                        {\"height\": 1000, \"legend\": {\"tracegroupgap\": 0}, \"margin\": {\"t\": 60}, \"template\": {\"data\": {\"bar\": [{\"error_x\": {\"color\": \"#2a3f5f\"}, \"error_y\": {\"color\": \"#2a3f5f\"}, \"marker\": {\"line\": {\"color\": \"#E5ECF6\", \"width\": 0.5}}, \"type\": \"bar\"}], \"barpolar\": [{\"marker\": {\"line\": {\"color\": \"#E5ECF6\", \"width\": 0.5}}, \"type\": \"barpolar\"}], \"carpet\": [{\"aaxis\": {\"endlinecolor\": \"#2a3f5f\", \"gridcolor\": \"white\", \"linecolor\": \"white\", \"minorgridcolor\": \"white\", \"startlinecolor\": \"#2a3f5f\"}, \"baxis\": {\"endlinecolor\": \"#2a3f5f\", \"gridcolor\": \"white\", \"linecolor\": \"white\", \"minorgridcolor\": \"white\", \"startlinecolor\": \"#2a3f5f\"}, \"type\": \"carpet\"}], \"choropleth\": [{\"colorbar\": {\"outlinewidth\": 0, \"ticks\": \"\"}, \"type\": \"choropleth\"}], \"contour\": [{\"colorbar\": {\"outlinewidth\": 0, \"ticks\": \"\"}, \"colorscale\": [[0.0, \"#0d0887\"], [0.1111111111111111, \"#46039f\"], [0.2222222222222222, \"#7201a8\"], [0.3333333333333333, \"#9c179e\"], [0.4444444444444444, \"#bd3786\"], [0.5555555555555556, \"#d8576b\"], [0.6666666666666666, \"#ed7953\"], [0.7777777777777778, \"#fb9f3a\"], [0.8888888888888888, \"#fdca26\"], [1.0, \"#f0f921\"]], \"type\": \"contour\"}], \"contourcarpet\": [{\"colorbar\": {\"outlinewidth\": 0, \"ticks\": \"\"}, \"type\": \"contourcarpet\"}], \"heatmap\": [{\"colorbar\": {\"outlinewidth\": 0, \"ticks\": \"\"}, \"colorscale\": [[0.0, \"#0d0887\"], [0.1111111111111111, \"#46039f\"], [0.2222222222222222, \"#7201a8\"], [0.3333333333333333, \"#9c179e\"], [0.4444444444444444, \"#bd3786\"], [0.5555555555555556, \"#d8576b\"], [0.6666666666666666, \"#ed7953\"], [0.7777777777777778, \"#fb9f3a\"], [0.8888888888888888, \"#fdca26\"], [1.0, \"#f0f921\"]], \"type\": \"heatmap\"}], \"heatmapgl\": [{\"colorbar\": {\"outlinewidth\": 0, \"ticks\": \"\"}, \"colorscale\": [[0.0, \"#0d0887\"], [0.1111111111111111, \"#46039f\"], [0.2222222222222222, \"#7201a8\"], [0.3333333333333333, \"#9c179e\"], [0.4444444444444444, \"#bd3786\"], [0.5555555555555556, \"#d8576b\"], [0.6666666666666666, \"#ed7953\"], [0.7777777777777778, \"#fb9f3a\"], [0.8888888888888888, \"#fdca26\"], [1.0, \"#f0f921\"]], \"type\": \"heatmapgl\"}], \"histogram\": [{\"marker\": {\"colorbar\": {\"outlinewidth\": 0, \"ticks\": \"\"}}, \"type\": \"histogram\"}], \"histogram2d\": [{\"colorbar\": {\"outlinewidth\": 0, \"ticks\": \"\"}, \"colorscale\": [[0.0, \"#0d0887\"], [0.1111111111111111, \"#46039f\"], [0.2222222222222222, \"#7201a8\"], [0.3333333333333333, \"#9c179e\"], [0.4444444444444444, \"#bd3786\"], [0.5555555555555556, \"#d8576b\"], [0.6666666666666666, \"#ed7953\"], [0.7777777777777778, \"#fb9f3a\"], [0.8888888888888888, \"#fdca26\"], [1.0, \"#f0f921\"]], \"type\": \"histogram2d\"}], \"histogram2dcontour\": [{\"colorbar\": {\"outlinewidth\": 0, \"ticks\": \"\"}, \"colorscale\": [[0.0, \"#0d0887\"], [0.1111111111111111, \"#46039f\"], [0.2222222222222222, \"#7201a8\"], [0.3333333333333333, \"#9c179e\"], [0.4444444444444444, \"#bd3786\"], [0.5555555555555556, \"#d8576b\"], [0.6666666666666666, \"#ed7953\"], [0.7777777777777778, \"#fb9f3a\"], [0.8888888888888888, \"#fdca26\"], [1.0, \"#f0f921\"]], \"type\": \"histogram2dcontour\"}], \"mesh3d\": [{\"colorbar\": {\"outlinewidth\": 0, \"ticks\": \"\"}, \"type\": \"mesh3d\"}], \"parcoords\": [{\"line\": {\"colorbar\": {\"outlinewidth\": 0, \"ticks\": \"\"}}, \"type\": \"parcoords\"}], \"pie\": [{\"automargin\": true, \"type\": \"pie\"}], \"scatter\": [{\"marker\": {\"colorbar\": {\"outlinewidth\": 0, \"ticks\": \"\"}}, \"type\": \"scatter\"}], \"scatter3d\": [{\"line\": {\"colorbar\": {\"outlinewidth\": 0, \"ticks\": \"\"}}, \"marker\": {\"colorbar\": {\"outlinewidth\": 0, \"ticks\": \"\"}}, \"type\": \"scatter3d\"}], \"scattercarpet\": [{\"marker\": {\"colorbar\": {\"outlinewidth\": 0, \"ticks\": \"\"}}, \"type\": \"scattercarpet\"}], \"scattergeo\": [{\"marker\": {\"colorbar\": {\"outlinewidth\": 0, \"ticks\": \"\"}}, \"type\": \"scattergeo\"}], \"scattergl\": [{\"marker\": {\"colorbar\": {\"outlinewidth\": 0, \"ticks\": \"\"}}, \"type\": \"scattergl\"}], \"scattermapbox\": [{\"marker\": {\"colorbar\": {\"outlinewidth\": 0, \"ticks\": \"\"}}, \"type\": \"scattermapbox\"}], \"scatterpolar\": [{\"marker\": {\"colorbar\": {\"outlinewidth\": 0, \"ticks\": \"\"}}, \"type\": \"scatterpolar\"}], \"scatterpolargl\": [{\"marker\": {\"colorbar\": {\"outlinewidth\": 0, \"ticks\": \"\"}}, \"type\": \"scatterpolargl\"}], \"scatterternary\": [{\"marker\": {\"colorbar\": {\"outlinewidth\": 0, \"ticks\": \"\"}}, \"type\": \"scatterternary\"}], \"surface\": [{\"colorbar\": {\"outlinewidth\": 0, \"ticks\": \"\"}, \"colorscale\": [[0.0, \"#0d0887\"], [0.1111111111111111, \"#46039f\"], [0.2222222222222222, \"#7201a8\"], [0.3333333333333333, \"#9c179e\"], [0.4444444444444444, \"#bd3786\"], [0.5555555555555556, \"#d8576b\"], [0.6666666666666666, \"#ed7953\"], [0.7777777777777778, \"#fb9f3a\"], [0.8888888888888888, \"#fdca26\"], [1.0, \"#f0f921\"]], \"type\": \"surface\"}], \"table\": [{\"cells\": {\"fill\": {\"color\": \"#EBF0F8\"}, \"line\": {\"color\": \"white\"}}, \"header\": {\"fill\": {\"color\": \"#C8D4E3\"}, \"line\": {\"color\": \"white\"}}, \"type\": \"table\"}]}, \"layout\": {\"annotationdefaults\": {\"arrowcolor\": \"#2a3f5f\", \"arrowhead\": 0, \"arrowwidth\": 1}, \"coloraxis\": {\"colorbar\": {\"outlinewidth\": 0, \"ticks\": \"\"}}, \"colorscale\": {\"diverging\": [[0, \"#8e0152\"], [0.1, \"#c51b7d\"], [0.2, \"#de77ae\"], [0.3, \"#f1b6da\"], [0.4, \"#fde0ef\"], [0.5, \"#f7f7f7\"], [0.6, \"#e6f5d0\"], [0.7, \"#b8e186\"], [0.8, \"#7fbc41\"], [0.9, \"#4d9221\"], [1, \"#276419\"]], \"sequential\": [[0.0, \"#0d0887\"], [0.1111111111111111, \"#46039f\"], [0.2222222222222222, \"#7201a8\"], [0.3333333333333333, \"#9c179e\"], [0.4444444444444444, \"#bd3786\"], [0.5555555555555556, \"#d8576b\"], [0.6666666666666666, \"#ed7953\"], [0.7777777777777778, \"#fb9f3a\"], [0.8888888888888888, \"#fdca26\"], [1.0, \"#f0f921\"]], \"sequentialminus\": [[0.0, \"#0d0887\"], [0.1111111111111111, \"#46039f\"], [0.2222222222222222, \"#7201a8\"], [0.3333333333333333, \"#9c179e\"], [0.4444444444444444, \"#bd3786\"], [0.5555555555555556, \"#d8576b\"], [0.6666666666666666, \"#ed7953\"], [0.7777777777777778, \"#fb9f3a\"], [0.8888888888888888, \"#fdca26\"], [1.0, \"#f0f921\"]]}, \"colorway\": [\"#636efa\", \"#EF553B\", \"#00cc96\", \"#ab63fa\", \"#FFA15A\", \"#19d3f3\", \"#FF6692\", \"#B6E880\", \"#FF97FF\", \"#FECB52\"], \"font\": {\"color\": \"#2a3f5f\"}, \"geo\": {\"bgcolor\": \"white\", \"lakecolor\": \"white\", \"landcolor\": \"#E5ECF6\", \"showlakes\": true, \"showland\": true, \"subunitcolor\": \"white\"}, \"hoverlabel\": {\"align\": \"left\"}, \"hovermode\": \"closest\", \"mapbox\": {\"style\": \"light\"}, \"paper_bgcolor\": \"white\", \"plot_bgcolor\": \"#E5ECF6\", \"polar\": {\"angularaxis\": {\"gridcolor\": \"white\", \"linecolor\": \"white\", \"ticks\": \"\"}, \"bgcolor\": \"#E5ECF6\", \"radialaxis\": {\"gridcolor\": \"white\", \"linecolor\": \"white\", \"ticks\": \"\"}}, \"scene\": {\"xaxis\": {\"backgroundcolor\": \"#E5ECF6\", \"gridcolor\": \"white\", \"gridwidth\": 2, \"linecolor\": \"white\", \"showbackground\": true, \"ticks\": \"\", \"zerolinecolor\": \"white\"}, \"yaxis\": {\"backgroundcolor\": \"#E5ECF6\", \"gridcolor\": \"white\", \"gridwidth\": 2, \"linecolor\": \"white\", \"showbackground\": true, \"ticks\": \"\", \"zerolinecolor\": \"white\"}, \"zaxis\": {\"backgroundcolor\": \"#E5ECF6\", \"gridcolor\": \"white\", \"gridwidth\": 2, \"linecolor\": \"white\", \"showbackground\": true, \"ticks\": \"\", \"zerolinecolor\": \"white\"}}, \"shapedefaults\": {\"line\": {\"color\": \"#2a3f5f\"}}, \"ternary\": {\"aaxis\": {\"gridcolor\": \"white\", \"linecolor\": \"white\", \"ticks\": \"\"}, \"baxis\": {\"gridcolor\": \"white\", \"linecolor\": \"white\", \"ticks\": \"\"}, \"bgcolor\": \"#E5ECF6\", \"caxis\": {\"gridcolor\": \"white\", \"linecolor\": \"white\", \"ticks\": \"\"}}, \"title\": {\"x\": 0.05}, \"xaxis\": {\"automargin\": true, \"gridcolor\": \"white\", \"linecolor\": \"white\", \"ticks\": \"\", \"title\": {\"standoff\": 15}, \"zerolinecolor\": \"white\", \"zerolinewidth\": 2}, \"yaxis\": {\"automargin\": true, \"gridcolor\": \"white\", \"linecolor\": \"white\", \"ticks\": \"\", \"title\": {\"standoff\": 15}, \"zerolinecolor\": \"white\", \"zerolinewidth\": 2}}}, \"width\": 1000},\n",
       "                        {\"responsive\": true}\n",
       "                    ).then(function(){\n",
       "                            \n",
       "var gd = document.getElementById('70d9b48b-9baa-4f20-9730-e4ffa9856096');\n",
       "var x = new MutationObserver(function (mutations, observer) {{\n",
       "        var display = window.getComputedStyle(gd).display;\n",
       "        if (!display || display === 'none') {{\n",
       "            console.log([gd, 'removed!']);\n",
       "            Plotly.purge(gd);\n",
       "            observer.disconnect();\n",
       "        }}\n",
       "}});\n",
       "\n",
       "// Listen for the removal of the full notebook cells\n",
       "var notebookContainer = gd.closest('#notebook-container');\n",
       "if (notebookContainer) {{\n",
       "    x.observe(notebookContainer, {childList: true});\n",
       "}}\n",
       "\n",
       "// Listen for the clearing of the current output cell\n",
       "var outputEl = gd.closest('.output');\n",
       "if (outputEl) {{\n",
       "    x.observe(outputEl, {childList: true});\n",
       "}}\n",
       "\n",
       "                        })\n",
       "                };\n",
       "                });\n",
       "            </script>\n",
       "        </div>"
      ]
     },
     "metadata": {},
     "output_type": "display_data"
    }
   ],
   "source": [
    "fig = px.treemap(df3, path=['My Network', 'Company', 'Position'], width=1000, height=1000)\n",
    "fig.show()"
   ]
  }
 ],
 "metadata": {
  "kernelspec": {
   "display_name": "Python 3",
   "language": "python",
   "name": "python3"
  },
  "language_info": {
   "codemirror_mode": {
    "name": "ipython",
    "version": 3
   },
   "file_extension": ".py",
   "mimetype": "text/x-python",
   "name": "python",
   "nbconvert_exporter": "python",
   "pygments_lexer": "ipython3",
   "version": "3.7.4"
  }
 },
 "nbformat": 4,
 "nbformat_minor": 2
}
